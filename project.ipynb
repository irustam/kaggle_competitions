{
 "cells": [
  {
   "cell_type": "code",
   "execution_count": 1,
   "metadata": {},
   "outputs": [
    {
     "data": {
      "text/html": [
       "        <script type=\"text/javascript\">\n",
       "        window.PlotlyConfig = {MathJaxConfig: 'local'};\n",
       "        if (window.MathJax) {MathJax.Hub.Config({SVG: {font: \"STIX-Web\"}});}\n",
       "        if (typeof require !== 'undefined') {\n",
       "        require.undef(\"plotly\");\n",
       "        requirejs.config({\n",
       "            paths: {\n",
       "                'plotly': ['https://cdn.plot.ly/plotly-latest.min']\n",
       "            }\n",
       "        });\n",
       "        require(['plotly'], function(Plotly) {\n",
       "            window._Plotly = Plotly;\n",
       "        });\n",
       "        }\n",
       "        </script>\n",
       "        "
      ]
     },
     "metadata": {},
     "output_type": "display_data"
    }
   ],
   "source": [
    "#Importing libraries\n",
    "from typing import List, Tuple\n",
    "import numpy as np\n",
    "import pandas as pd\n",
    "from typing import List, Optional\n",
    "from tqdm import tqdm\n",
    "from sklearn.utils.validation import check_is_fitted\n",
    "import xgboost as xgb\n",
    "import catboost as catb\n",
    "from catboost.utils import get_roc_curve\n",
    "from catboost import Pool\n",
    "import lightgbm as lgb\n",
    "\n",
    "import os\n",
    "import json\n",
    "import shap\n",
    "import dill\n",
    "import matplotlib.pyplot as plt\n",
    "from collections import Counter\n",
    "from PIL import  Image\n",
    "import missingno as msno\n",
    "%matplotlib inline\n",
    "\n",
    "import seaborn as sns #visualization\n",
    "import featuretools as ft\n",
    "import itertools\n",
    "import warnings\n",
    "warnings.filterwarnings(\"ignore\")\n",
    "import io\n",
    "import plotly.offline as py#visualization\n",
    "py.init_notebook_mode(connected=True)#visualization\n",
    "import plotly.graph_objs as go#visualization\n",
    "import plotly.tools as tls#visualization\n",
    "import plotly.figure_factory as ff#visualization\n",
    "\n",
    "from featexp import get_univariate_plots\n",
    "\n",
    "from scipy.stats import gmean, rankdata\n",
    "from sklearn.model_selection import cross_val_score, learning_curve\n",
    "from sklearn.model_selection import train_test_split, TimeSeriesSplit, KFold, StratifiedKFold, GroupKFold, GridSearchCV\n",
    "from scipy.stats import shapiro, probplot, ttest_ind, mannwhitneyu, chi2_contingency, ks_2samp\n",
    "from sklearn.base import BaseEstimator, TransformerMixin\n",
    "from sklearn.ensemble import RandomForestClassifier\n",
    "from sklearn.linear_model import LogisticRegression\n",
    "from sklearn.metrics import confusion_matrix, accuracy_score, classification_report, scorer, log_loss\n",
    "from sklearn.metrics import precision_score, recall_score, roc_auc_score, roc_curve, f1_score, cohen_kappa_score\n",
    "from sklearn.metrics import accuracy_score, r2_score, mean_squared_error, mean_absolute_error\n",
    "from sklearn.preprocessing import LabelEncoder as le\n",
    "from pylab import rcParams\n",
    "\n",
    "rcParams['figure.figsize'] = 8, 5\n",
    "pd.set_option('display.max_columns', 500)\n",
    "pd.set_option('display.max_rows', 400)\n",
    "plt.style.use('seaborn-whitegrid')\n",
    "os.environ['KMP_DUPLICATE_LIB_OK']='True'"
   ]
  },
  {
   "cell_type": "code",
   "execution_count": 2,
   "metadata": {},
   "outputs": [],
   "source": [
    "def show_feature_importances(feature_names, feature_importances, get_top=None):\n",
    "    feature_importances = pd.DataFrame({'feature': feature_names, 'importance': feature_importances})\n",
    "    feature_importances = feature_importances.sort_values('importance', ascending=False)\n",
    "       \n",
    "    plt.figure(figsize = (20, len(feature_importances) * 0.5))\n",
    "    \n",
    "    sns.barplot(feature_importances['importance'], feature_importances['feature'])\n",
    "    \n",
    "    plt.xlabel('Importance')\n",
    "    plt.title('Importance of features')\n",
    "    plt.show()\n",
    "    \n",
    "    if get_top is not None:\n",
    "        return feature_importances['feature'][:get_top].tolist()"
   ]
  },
  {
   "cell_type": "code",
   "execution_count": 3,
   "metadata": {},
   "outputs": [],
   "source": [
    "def plot_roc_curve(**kwargs):\n",
    "    res_lst = []\n",
    "    \n",
    "    for k, v in kwargs.items():  \n",
    "        fpr, tpr, _ = roc_curve(v[0], v[1])\n",
    "        res_lst.append((fpr, tpr, k))\n",
    "    \n",
    "    plt.figure(figsize=(20,10))\n",
    "    for res in res_lst:\n",
    "        plt.plot(res[0], res[1], label=res[2])\n",
    "    plt.xlabel('False positive rate')\n",
    "    plt.ylabel('True positive rate')\n",
    "    plt.title('ROC curve')\n",
    "    plt.legend()\n",
    "    plt.show()\n",
    "    \n",
    "    return res_lst"
   ]
  },
  {
   "cell_type": "code",
   "execution_count": 70,
   "metadata": {},
   "outputs": [],
   "source": [
    "def make_cross_validation(X: pd.DataFrame,\n",
    "                          y: pd.Series,\n",
    "                          estimator: object,\n",
    "                          metric: callable,\n",
    "                          cv_strategy,\n",
    "                          params = None,\n",
    "                          groups: pd.Series = pd.Series(), \n",
    "                          categorical = None):\n",
    "    \"\"\"\n",
    "    Кросс-валидация.\n",
    "\n",
    "    Parameters\n",
    "    ----------\n",
    "    X: pd.DataFrame\n",
    "        Матрица признаков.\n",
    "\n",
    "    y: pd.Series\n",
    "        Вектор целевой переменной.\n",
    "\n",
    "    estimator: callable\n",
    "        Объект модели для обучения.\n",
    "\n",
    "    metric: callable\n",
    "        Метрика для оценки качества решения.\n",
    "        Ожидается, что на вход будет передана функция,\n",
    "        которая принимает 2 аргумента: y_true, y_pred.\n",
    "\n",
    "    cv_strategy: cross-validation generator\n",
    "        Объект для описания стратегии кросс-валидации.\n",
    "        Ожидается, что на вход будет передан объект типа\n",
    "        KFold или StratifiedKFold.\n",
    "    groups:\n",
    "        Если в cv_strategy передаем GroupKFold, то нужно передать groups,\n",
    "        чтобы разделять по этим данным датасет на группы\n",
    "    categorical:\n",
    "        Список названий признаков - категорий\n",
    "\n",
    "    Returns\n",
    "    -------\n",
    "    oof_score: float\n",
    "        Значение метрики качества на OOF-прогнозах.\n",
    "\n",
    "    fold_train_scores: List[float]\n",
    "        Значение метрики качества на каждом обучающем датасете кросс-валидации.\n",
    "\n",
    "    fold_valid_scores: List[float]\n",
    "        Значение метрики качества на каждом валидационном датасете кросс-валидации.\n",
    "\n",
    "    oof_predictions: np.array\n",
    "        Прогнозы на OOF.\n",
    "\n",
    "    \"\"\"\n",
    "    estimators, fold_train_scores, fold_valid_scores = [], [], []\n",
    "    oof_predictions = np.zeros(X.shape[0])\n",
    "    if len(groups) > 0:\n",
    "        cv_generator = cv_strategy.split(X, y, groups)\n",
    "    else:\n",
    "        cv_generator = cv_strategy.split(X, y)\n",
    "\n",
    "        \n",
    "    if estimator.__name__ == 'lightgbm':\n",
    "        train_func = lgb_train\n",
    "        X[categorical] = X[categorical].astype('category')\n",
    "        if not categorical:\n",
    "            categorical = 'auto'\n",
    "    elif estimator.__name__ == 'xgboost':\n",
    "        train_func = xgb_train\n",
    "        if categorical:\n",
    "            for feature in categorical:\n",
    "                encoder = le()\n",
    "                X[feature] = encoder.fit_transform(X[feature].astype(\"str\").fillna(\"NA\"))\n",
    "    elif estimator.__name__ == 'catboost':\n",
    "        train_func = catb_train\n",
    "        if categorical:\n",
    "            X[categorical] = X[categorical].astype(str)\n",
    "    elif estimator.__name__ == 'rfc':\n",
    "        train_func = rfc_train\n",
    "        if categorical:\n",
    "            for feature in categorical:\n",
    "                encoder = le()\n",
    "                X[feature] = encoder.fit_transform(X[feature].astype(\"str\").fillna(\"NA\"))\n",
    "                X = X.fillna(-99999)\n",
    "        \n",
    "        \n",
    "    for fold_number, (train_idx, valid_idx) in enumerate(cv_generator):\n",
    "        x_train, x_valid = X.loc[train_idx], X.loc[valid_idx]\n",
    "        y_train, y_valid = y.loc[train_idx], y.loc[valid_idx]\n",
    "        \n",
    "\n",
    "        model_train, y_train_pred, y_valid_pred = train_func(estimator, x_train, y_train, \n",
    "                                                             x_valid, y_valid, params, categorical)\n",
    "            \n",
    "        fold_train_scores.append(metric(y_train, y_train_pred))\n",
    "        fold_valid_scores.append(metric(y_valid, y_valid_pred))\n",
    "        oof_predictions[valid_idx] = y_valid_pred\n",
    "\n",
    "        msg = (\n",
    "            f\"Fold: {fold_number+1}, train-observations = {len(train_idx)}, \"\n",
    "            f\"valid-observations = {len(valid_idx)}\\n\"\n",
    "            f\"train-score = {round(fold_train_scores[fold_number], 4)}, \"\n",
    "            f\"valid-score = {round(fold_valid_scores[fold_number], 4)}\" \n",
    "        )\n",
    "        print(msg)\n",
    "        print(\"=\"*69)\n",
    "        estimators.append(model_train)\n",
    "\n",
    "    oof_score = metric(y, oof_predictions)\n",
    "    print(f\"CV-results train: {round(np.mean(fold_train_scores), 4)} +/- {round(np.std(fold_train_scores), 3)}\")\n",
    "    print(f\"CV-results valid: {round(np.mean(fold_valid_scores), 4)} +/- {round(np.std(fold_valid_scores), 3)}\")\n",
    "    print(f\"OOF-score = {round(oof_score, 4)}\")\n",
    "\n",
    "    return estimators, oof_score, fold_train_scores, fold_valid_scores, oof_predictions"
   ]
  },
  {
   "cell_type": "code",
   "execution_count": 75,
   "metadata": {},
   "outputs": [],
   "source": [
    "def rfc_train(estimator, x_train, y_train, x_valid, y_valid, _, __):\n",
    "\n",
    "    estimator.fit(x_train, y_train)\n",
    "    y_train_pred = estimator.predict_proba(x_train)\n",
    "    y_valid_pred = estimator.predict_proba(x_valid)\n",
    "    \n",
    "    return estimator, y_train_pred[:,1], y_valid_pred[:,1]"
   ]
  },
  {
   "cell_type": "code",
   "execution_count": 6,
   "metadata": {},
   "outputs": [],
   "source": [
    "def xgb_train(estimator, x_train, y_train, x_valid, y_valid, params, _):\n",
    "    dtrain = xgb.DMatrix(data=x_train, label=y_train)\n",
    "    dvalid = xgb.DMatrix(data=x_valid, label=y_valid)\n",
    "\n",
    "    model = estimator.train(\n",
    "        params=params,\n",
    "        dtrain=dtrain,\n",
    "        num_boost_round=1000,\n",
    "        early_stopping_rounds=50,\n",
    "        evals=[(dtrain, \"train\"), (dvalid, \"valid\")],\n",
    "        verbose_eval=True,\n",
    "        maximize=True,\n",
    "    )\n",
    "    \n",
    "    y_train_pred = model.predict(dtrain)\n",
    "    y_valid_pred = model.predict(dvalid)\n",
    "    \n",
    "    return model, y_train_pred, y_valid_pred"
   ]
  },
  {
   "cell_type": "code",
   "execution_count": 7,
   "metadata": {},
   "outputs": [],
   "source": [
    "def catb_train(estimator, x_train, y_train, x_valid, y_valid, params, categorical):\n",
    "    \n",
    "    train_pool = catb.Pool(x_train, y_train, cat_features=categorical)\n",
    "    valid_pool = catb.Pool(x_valid, y_valid, cat_features=categorical)\n",
    "    \n",
    "    model = estimator.CatBoostClassifier(**params)\n",
    "    model.fit(train_pool, eval_set=valid_pool)\n",
    "    \n",
    "    y_train_pred = model.predict(x_train, prediction_type='Probability')\n",
    "    y_valid_pred = model.predict(x_valid, prediction_type='Probability')\n",
    "    \n",
    "    return model, y_train_pred[:,1], y_valid_pred[:,1]"
   ]
  },
  {
   "cell_type": "code",
   "execution_count": 8,
   "metadata": {},
   "outputs": [],
   "source": [
    "def lgb_train(estimator, x_train, y_train, x_valid, y_valid, params, categorical):\n",
    "    \n",
    "    dtrain = lgb.Dataset(data=x_train, label=y_train)\n",
    "    dvalid = lgb.Dataset(data=x_valid, label=y_valid)\n",
    "    \n",
    "    model = estimator.train(\n",
    "        params=params,\n",
    "        train_set=dtrain,\n",
    "        num_boost_round=1000,\n",
    "        valid_sets=[dtrain, dvalid],\n",
    "        categorical_feature=categorical,\n",
    "        early_stopping_rounds=50,\n",
    "        verbose_eval=10\n",
    "    )\n",
    "    \n",
    "    y_train_pred = model.predict(x_train)\n",
    "    y_valid_pred = model.predict(x_valid)\n",
    "    \n",
    "    return model, y_train_pred, y_valid_pred"
   ]
  },
  {
   "cell_type": "code",
   "execution_count": 10,
   "metadata": {},
   "outputs": [
    {
     "name": "stdout",
     "output_type": "stream",
     "text": [
      "client_profile.shape = 250000 rows, 24 cols\n",
      "train.shape = 110093 rows, 3 cols\n",
      "test.shape = 165141 rows, 2 cols\n"
     ]
    }
   ],
   "source": [
    "# applications_history = pd.read_csv(\"data/applications_history.csv\")\n",
    "# bki = pd.read_csv(\"data/bki.csv\")\n",
    "client_profile = pd.read_csv(\"data/client_profile.csv\")\n",
    "# payments = pd.read_csv(\"data/payments.csv\")\n",
    "# sample_submit = pd.read_csv(\"data/sample_submit.csv\")\n",
    "train = pd.read_csv(\"data/train.csv\")\n",
    "test = pd.read_csv(\"data/test.csv\")\n",
    "\n",
    "# print(\"applications_history.shape = {} rows, {} cols\".format(*applications_history.shape))\n",
    "# print(\"bki.shape = {} rows, {} cols\".format(*bki.shape))\n",
    "print(\"client_profile.shape = {} rows, {} cols\".format(*client_profile.shape))\n",
    "# print(\"payments.shape = {} rows, {} cols\".format(*payments.shape))\n",
    "# print(\"sample_submit.shape = {} rows, {} cols\".format(*sample_submit.shape))\n",
    "print(\"train.shape = {} rows, {} cols\".format(*train.shape))\n",
    "print(\"test.shape = {} rows, {} cols\".format(*test.shape))"
   ]
  },
  {
   "cell_type": "code",
   "execution_count": 11,
   "metadata": {},
   "outputs": [],
   "source": [
    "def create_client_profile_features(X: pd.DataFrame, copy: bool = True) -> pd.DataFrame:\n",
    "    \"\"\"\n",
    "    Создание признаков на основе профиля клиентов.\n",
    "\n",
    "    Parameters\n",
    "    ----------\n",
    "    X: pandas.core.frame.DataFrame\n",
    "        Матрица признаков с исходным профилем клиента.\n",
    "\n",
    "    copy: bool, optional, default = True\n",
    "        Флаг использования копии датафрейма X.\n",
    "        Опциональный параметр, по умолчанию, равен True.\n",
    "\n",
    "    Returns\n",
    "    -------\n",
    "    X_transformed: pandas.core.frame.DataFrame\n",
    "        Расширенная матрица признаков с профилем клиентов.\n",
    "\n",
    "    \"\"\"\n",
    "    if copy:\n",
    "        X = X.copy()\n",
    "\n",
    "    X.columns = [col.lower() for col in X.columns]\n",
    "    X[\"days_on_last_job\"] = X[\"days_on_last_job\"].replace(365243, np.nan)\n",
    "    bki_flags = [flag for flag in X.columns if \"amt_req_credit_bureau\" in flag]\n",
    "    X[\"bki_requests_count\"] = X[bki_flags].sum(axis=1)\n",
    "    X[\"bki_kurtosis\"] = X[bki_flags].kurtosis(axis=1)\n",
    "\n",
    "    X[\"external_scoring_prod\"] = X[\"external_scoring_rating_1\"] * X[\"external_scoring_rating_2\"] * X[\"external_scoring_rating_3\"]\n",
    "    X[\"external_scoring_weighted\"] = X.external_scoring_rating_1 * 2 + X.external_scoring_rating_2 * 1 + X.external_scoring_rating_3 * 3\n",
    "\n",
    "    for function_name in [\"min\", \"max\", \"mean\", \"nanmedian\", \"var\"]:\n",
    "        feature_name = \"external_scoring_rating_{}\".format(function_name)\n",
    "        X[feature_name] = eval(\"np.{}\".format(function_name))(\n",
    "            X[[\"external_scoring_rating_1\", \"external_scoring_rating_2\", \"external_scoring_rating_3\"]], axis=1\n",
    "        )\n",
    "\n",
    "    # Отношение между основными фин. показателями\n",
    "    X['ratio_credit_to_annuity'] = X['amount_credit'] / X['amount_annuity']\n",
    "    X[\"ratio_annuity_to_salary\"] = X['amount_annuity'] / X['total_salary']\n",
    "    X['ratio_credit_to_salary'] = X['amount_credit'] / X['total_salary']\n",
    "    #X[\"total_salary_net\"] = X[\"total_salary\"] - X[\"amount_annuity\"]\n",
    "\n",
    "    # Отношение фин. показателей к возрасту и временным фичам\n",
    "    X[\"ratio_annuity_to_age\"] = X[\"amount_annuity\"] / X[\"age\"]\n",
    "    X[\"ratio_credit_to_age\"] = X[\"amount_credit\"] / X[\"age\"]\n",
    "    X[\"ratio_salary_to_age\"] = X[\"total_salary\"] / X[\"age\"]\n",
    "    X[\"ratio_salary_to_experience\"] = X[\"total_salary\"] / X[\"days_on_last_job\"]\n",
    "    X[\"ratio_credit_to_experience\"] = X[\"amount_credit\"] / X[\"days_on_last_job\"]\n",
    "    X[\"ratio_annuity_to_experience\"] = X[\"amount_annuity\"] / X[\"days_on_last_job\"]\n",
    "\n",
    "    # Отношение врменных признаков\n",
    "    X[\"ratio_age_to_experience\"] = X[\"age\"] / X[\"days_on_last_job\"]\n",
    "    X[\"ratio_salary_to_region_population\"] = X[\"total_salary\"] * X[\"region_population\"]\n",
    "    X[\"ratio_car_to_experience\"] = X[\"own_car_age\"] / X[\"days_on_last_job\"]\n",
    "    X[\"ratio_car_to_age\"] = X[\"own_car_age\"] / X[\"age\"]\n",
    "\n",
    "    # Произведение фин. показателей кредита на вероятность дефолта\n",
    "    # Такая штука называется математическим ожиданием дефолта или ожидаемыми потерями\n",
    "    X[\"expected_total_loss_1\"] = X[\"external_scoring_rating_1\"] * X[\"amount_credit\"]\n",
    "    X[\"expected_total_loss_2\"] = X[\"external_scoring_rating_2\"] * X[\"amount_credit\"]\n",
    "    X[\"expected_total_loss_3\"] = X[\"external_scoring_rating_3\"] * X[\"amount_credit\"]\n",
    "    X[\"expected_monthly_loss_1\"] = X[\"external_scoring_rating_1\"] * X[\"amount_annuity\"]\n",
    "    X[\"expected_monthly_loss_2\"] = X[\"external_scoring_rating_2\"] * X[\"amount_annuity\"]\n",
    "    X[\"expected_monthly_loss_3\"] = X[\"external_scoring_rating_3\"] * X[\"amount_annuity\"]\n",
    "\n",
    "    return X"
   ]
  },
  {
   "cell_type": "code",
   "execution_count": 12,
   "metadata": {},
   "outputs": [
    {
     "data": {
      "text/plain": [
       "(275234, 4)"
      ]
     },
     "execution_count": 12,
     "metadata": {},
     "output_type": "execute_result"
    }
   ],
   "source": [
    "tt_data = pd.concat([train.assign(is_test=0), \n",
    "                     test.assign(is_test=1)], axis=0)\n",
    "tt_data.shape"
   ]
  },
  {
   "cell_type": "code",
   "execution_count": 13,
   "metadata": {},
   "outputs": [
    {
     "data": {
      "text/html": [
       "<div>\n",
       "<style scoped>\n",
       "    .dataframe tbody tr th:only-of-type {\n",
       "        vertical-align: middle;\n",
       "    }\n",
       "\n",
       "    .dataframe tbody tr th {\n",
       "        vertical-align: top;\n",
       "    }\n",
       "\n",
       "    .dataframe thead th {\n",
       "        text-align: right;\n",
       "    }\n",
       "</style>\n",
       "<table border=\"1\" class=\"dataframe\">\n",
       "  <thead>\n",
       "    <tr style=\"text-align: right;\">\n",
       "      <th></th>\n",
       "      <th>application_number</th>\n",
       "      <th>target</th>\n",
       "      <th>name_contract_type</th>\n",
       "      <th>is_test</th>\n",
       "    </tr>\n",
       "  </thead>\n",
       "  <tbody>\n",
       "    <tr>\n",
       "      <th>0</th>\n",
       "      <td>123687442</td>\n",
       "      <td>0.0</td>\n",
       "      <td>Cash</td>\n",
       "      <td>0</td>\n",
       "    </tr>\n",
       "    <tr>\n",
       "      <th>1</th>\n",
       "      <td>123597908</td>\n",
       "      <td>1.0</td>\n",
       "      <td>Cash</td>\n",
       "      <td>0</td>\n",
       "    </tr>\n",
       "  </tbody>\n",
       "</table>\n",
       "</div>"
      ],
      "text/plain": [
       "   application_number  target name_contract_type  is_test\n",
       "0           123687442     0.0               Cash        0\n",
       "1           123597908     1.0               Cash        0"
      ]
     },
     "execution_count": 13,
     "metadata": {},
     "output_type": "execute_result"
    }
   ],
   "source": [
    "tt_data.columns = [col.lower() for col in tt_data.columns]\n",
    "tt_data.head(2)"
   ]
  },
  {
   "cell_type": "code",
   "execution_count": 14,
   "metadata": {},
   "outputs": [
    {
     "data": {
      "text/html": [
       "<div>\n",
       "<style scoped>\n",
       "    .dataframe tbody tr th:only-of-type {\n",
       "        vertical-align: middle;\n",
       "    }\n",
       "\n",
       "    .dataframe tbody tr th {\n",
       "        vertical-align: top;\n",
       "    }\n",
       "\n",
       "    .dataframe thead th {\n",
       "        text-align: right;\n",
       "    }\n",
       "</style>\n",
       "<table border=\"1\" class=\"dataframe\">\n",
       "  <thead>\n",
       "    <tr style=\"text-align: right;\">\n",
       "      <th></th>\n",
       "      <th>application_number</th>\n",
       "      <th>gender</th>\n",
       "      <th>childrens</th>\n",
       "      <th>total_salary</th>\n",
       "      <th>amount_credit</th>\n",
       "      <th>amount_annuity</th>\n",
       "      <th>education_level</th>\n",
       "      <th>family_status</th>\n",
       "      <th>region_population</th>\n",
       "      <th>age</th>\n",
       "      <th>days_on_last_job</th>\n",
       "      <th>own_car_age</th>\n",
       "      <th>flag_phone</th>\n",
       "      <th>flag_email</th>\n",
       "      <th>family_size</th>\n",
       "      <th>external_scoring_rating_1</th>\n",
       "      <th>external_scoring_rating_2</th>\n",
       "      <th>external_scoring_rating_3</th>\n",
       "      <th>amt_req_credit_bureau_hour</th>\n",
       "      <th>amt_req_credit_bureau_day</th>\n",
       "      <th>amt_req_credit_bureau_week</th>\n",
       "      <th>amt_req_credit_bureau_mon</th>\n",
       "      <th>amt_req_credit_bureau_qrt</th>\n",
       "      <th>amt_req_credit_bureau_year</th>\n",
       "      <th>bki_requests_count</th>\n",
       "      <th>bki_kurtosis</th>\n",
       "      <th>external_scoring_prod</th>\n",
       "      <th>external_scoring_weighted</th>\n",
       "      <th>external_scoring_rating_min</th>\n",
       "      <th>external_scoring_rating_max</th>\n",
       "      <th>external_scoring_rating_mean</th>\n",
       "      <th>external_scoring_rating_nanmedian</th>\n",
       "      <th>external_scoring_rating_var</th>\n",
       "      <th>ratio_credit_to_annuity</th>\n",
       "      <th>ratio_annuity_to_salary</th>\n",
       "      <th>ratio_credit_to_salary</th>\n",
       "      <th>ratio_annuity_to_age</th>\n",
       "      <th>ratio_credit_to_age</th>\n",
       "      <th>ratio_salary_to_age</th>\n",
       "      <th>ratio_salary_to_experience</th>\n",
       "      <th>ratio_credit_to_experience</th>\n",
       "      <th>ratio_annuity_to_experience</th>\n",
       "      <th>ratio_age_to_experience</th>\n",
       "      <th>ratio_salary_to_region_population</th>\n",
       "      <th>ratio_car_to_experience</th>\n",
       "      <th>ratio_car_to_age</th>\n",
       "      <th>expected_total_loss_1</th>\n",
       "      <th>expected_total_loss_2</th>\n",
       "      <th>expected_total_loss_3</th>\n",
       "      <th>expected_monthly_loss_1</th>\n",
       "      <th>expected_monthly_loss_2</th>\n",
       "      <th>expected_monthly_loss_3</th>\n",
       "    </tr>\n",
       "  </thead>\n",
       "  <tbody>\n",
       "    <tr>\n",
       "      <th>0</th>\n",
       "      <td>123666076</td>\n",
       "      <td>F</td>\n",
       "      <td>0</td>\n",
       "      <td>157500.0</td>\n",
       "      <td>270000.0</td>\n",
       "      <td>13500.0</td>\n",
       "      <td>Incomplete higher</td>\n",
       "      <td>Civil marriage</td>\n",
       "      <td>0.008068</td>\n",
       "      <td>8560</td>\n",
       "      <td>1549.0</td>\n",
       "      <td>NaN</td>\n",
       "      <td>1</td>\n",
       "      <td>0</td>\n",
       "      <td>2.0</td>\n",
       "      <td>0.329471</td>\n",
       "      <td>0.236315</td>\n",
       "      <td>0.678568</td>\n",
       "      <td>0.0</td>\n",
       "      <td>0.0</td>\n",
       "      <td>0.0</td>\n",
       "      <td>0.0</td>\n",
       "      <td>1.0</td>\n",
       "      <td>2.0</td>\n",
       "      <td>3.0</td>\n",
       "      <td>1.428571</td>\n",
       "      <td>0.052832</td>\n",
       "      <td>2.930959</td>\n",
       "      <td>0.236315</td>\n",
       "      <td>0.678568</td>\n",
       "      <td>0.414784</td>\n",
       "      <td>0.329471</td>\n",
       "      <td>0.036237</td>\n",
       "      <td>20.00000</td>\n",
       "      <td>0.085714</td>\n",
       "      <td>1.714286</td>\n",
       "      <td>1.577103</td>\n",
       "      <td>31.542056</td>\n",
       "      <td>18.399533</td>\n",
       "      <td>101.678502</td>\n",
       "      <td>174.306004</td>\n",
       "      <td>8.7153</td>\n",
       "      <td>5.526146</td>\n",
       "      <td>1270.71</td>\n",
       "      <td>NaN</td>\n",
       "      <td>NaN</td>\n",
       "      <td>88957.124333</td>\n",
       "      <td>63804.966560</td>\n",
       "      <td>183213.275945</td>\n",
       "      <td>4447.856217</td>\n",
       "      <td>3190.248328</td>\n",
       "      <td>9160.663797</td>\n",
       "    </tr>\n",
       "    <tr>\n",
       "      <th>1</th>\n",
       "      <td>123423688</td>\n",
       "      <td>F</td>\n",
       "      <td>0</td>\n",
       "      <td>270000.0</td>\n",
       "      <td>536917.5</td>\n",
       "      <td>28467.0</td>\n",
       "      <td>Secondary / secondary special</td>\n",
       "      <td>Married</td>\n",
       "      <td>0.020246</td>\n",
       "      <td>23187</td>\n",
       "      <td>NaN</td>\n",
       "      <td>NaN</td>\n",
       "      <td>0</td>\n",
       "      <td>0</td>\n",
       "      <td>2.0</td>\n",
       "      <td>NaN</td>\n",
       "      <td>0.442295</td>\n",
       "      <td>0.802745</td>\n",
       "      <td>0.0</td>\n",
       "      <td>0.0</td>\n",
       "      <td>0.0</td>\n",
       "      <td>0.0</td>\n",
       "      <td>1.0</td>\n",
       "      <td>1.0</td>\n",
       "      <td>2.0</td>\n",
       "      <td>-1.875000</td>\n",
       "      <td>NaN</td>\n",
       "      <td>NaN</td>\n",
       "      <td>0.442295</td>\n",
       "      <td>0.802745</td>\n",
       "      <td>0.622520</td>\n",
       "      <td>0.622520</td>\n",
       "      <td>0.032481</td>\n",
       "      <td>18.86105</td>\n",
       "      <td>0.105433</td>\n",
       "      <td>1.988583</td>\n",
       "      <td>1.227714</td>\n",
       "      <td>23.155971</td>\n",
       "      <td>11.644456</td>\n",
       "      <td>NaN</td>\n",
       "      <td>NaN</td>\n",
       "      <td>NaN</td>\n",
       "      <td>NaN</td>\n",
       "      <td>5466.42</td>\n",
       "      <td>NaN</td>\n",
       "      <td>NaN</td>\n",
       "      <td>NaN</td>\n",
       "      <td>237475.743779</td>\n",
       "      <td>431008.094056</td>\n",
       "      <td>NaN</td>\n",
       "      <td>12590.802122</td>\n",
       "      <td>22851.755462</td>\n",
       "    </tr>\n",
       "  </tbody>\n",
       "</table>\n",
       "</div>"
      ],
      "text/plain": [
       "   application_number gender  childrens  total_salary  amount_credit  \\\n",
       "0           123666076      F          0      157500.0       270000.0   \n",
       "1           123423688      F          0      270000.0       536917.5   \n",
       "\n",
       "   amount_annuity                education_level   family_status  \\\n",
       "0         13500.0              Incomplete higher  Civil marriage   \n",
       "1         28467.0  Secondary / secondary special         Married   \n",
       "\n",
       "   region_population    age  days_on_last_job  own_car_age  flag_phone  \\\n",
       "0           0.008068   8560            1549.0          NaN           1   \n",
       "1           0.020246  23187               NaN          NaN           0   \n",
       "\n",
       "   flag_email  family_size  external_scoring_rating_1  \\\n",
       "0           0          2.0                   0.329471   \n",
       "1           0          2.0                        NaN   \n",
       "\n",
       "   external_scoring_rating_2  external_scoring_rating_3  \\\n",
       "0                   0.236315                   0.678568   \n",
       "1                   0.442295                   0.802745   \n",
       "\n",
       "   amt_req_credit_bureau_hour  amt_req_credit_bureau_day  \\\n",
       "0                         0.0                        0.0   \n",
       "1                         0.0                        0.0   \n",
       "\n",
       "   amt_req_credit_bureau_week  amt_req_credit_bureau_mon  \\\n",
       "0                         0.0                        0.0   \n",
       "1                         0.0                        0.0   \n",
       "\n",
       "   amt_req_credit_bureau_qrt  amt_req_credit_bureau_year  bki_requests_count  \\\n",
       "0                        1.0                         2.0                 3.0   \n",
       "1                        1.0                         1.0                 2.0   \n",
       "\n",
       "   bki_kurtosis  external_scoring_prod  external_scoring_weighted  \\\n",
       "0      1.428571               0.052832                   2.930959   \n",
       "1     -1.875000                    NaN                        NaN   \n",
       "\n",
       "   external_scoring_rating_min  external_scoring_rating_max  \\\n",
       "0                     0.236315                     0.678568   \n",
       "1                     0.442295                     0.802745   \n",
       "\n",
       "   external_scoring_rating_mean  external_scoring_rating_nanmedian  \\\n",
       "0                      0.414784                           0.329471   \n",
       "1                      0.622520                           0.622520   \n",
       "\n",
       "   external_scoring_rating_var  ratio_credit_to_annuity  \\\n",
       "0                     0.036237                 20.00000   \n",
       "1                     0.032481                 18.86105   \n",
       "\n",
       "   ratio_annuity_to_salary  ratio_credit_to_salary  ratio_annuity_to_age  \\\n",
       "0                 0.085714                1.714286              1.577103   \n",
       "1                 0.105433                1.988583              1.227714   \n",
       "\n",
       "   ratio_credit_to_age  ratio_salary_to_age  ratio_salary_to_experience  \\\n",
       "0            31.542056            18.399533                  101.678502   \n",
       "1            23.155971            11.644456                         NaN   \n",
       "\n",
       "   ratio_credit_to_experience  ratio_annuity_to_experience  \\\n",
       "0                  174.306004                       8.7153   \n",
       "1                         NaN                          NaN   \n",
       "\n",
       "   ratio_age_to_experience  ratio_salary_to_region_population  \\\n",
       "0                 5.526146                            1270.71   \n",
       "1                      NaN                            5466.42   \n",
       "\n",
       "   ratio_car_to_experience  ratio_car_to_age  expected_total_loss_1  \\\n",
       "0                      NaN               NaN           88957.124333   \n",
       "1                      NaN               NaN                    NaN   \n",
       "\n",
       "   expected_total_loss_2  expected_total_loss_3  expected_monthly_loss_1  \\\n",
       "0           63804.966560          183213.275945              4447.856217   \n",
       "1          237475.743779          431008.094056                      NaN   \n",
       "\n",
       "   expected_monthly_loss_2  expected_monthly_loss_3  \n",
       "0              3190.248328              9160.663797  \n",
       "1             12590.802122             22851.755462  "
      ]
     },
     "execution_count": 14,
     "metadata": {},
     "output_type": "execute_result"
    }
   ],
   "source": [
    "client_profile2 = create_client_profile_features(client_profile)\n",
    "client_profile2.head(n=2)"
   ]
  },
  {
   "cell_type": "code",
   "execution_count": 15,
   "metadata": {},
   "outputs": [],
   "source": [
    "data = tt_data.merge(\n",
    "    client_profile2, how=\"left\", on=\"application_number\"\n",
    ")"
   ]
  },
  {
   "cell_type": "code",
   "execution_count": 16,
   "metadata": {},
   "outputs": [
    {
     "data": {
      "text/plain": [
       "(51, 4)"
      ]
     },
     "execution_count": 16,
     "metadata": {},
     "output_type": "execute_result"
    }
   ],
   "source": [
    "#Разбиваем признаки по типам: числовые, нечисловые, цель\n",
    "num_features_res = data.select_dtypes(\"number\").columns.to_list()\n",
    "dum_features_res = data.select_dtypes(\"object\").columns.to_list()\n",
    "len(num_features_res), len(dum_features_res)"
   ]
  },
  {
   "cell_type": "code",
   "execution_count": 17,
   "metadata": {},
   "outputs": [],
   "source": [
    "cv_strategy = StratifiedKFold(n_splits=5, random_state=1)"
   ]
  },
  {
   "cell_type": "markdown",
   "metadata": {},
   "source": [
    "__Задание 1__ Обучить алгоритмы LightGBM и XGBoost, получить OOF прогнозы, оценить корреляцию прогнозов на обучающей выборке. Применить модели на тестовую выборку и оценить корреляцию."
   ]
  },
  {
   "cell_type": "code",
   "execution_count": 18,
   "metadata": {},
   "outputs": [],
   "source": [
    "train = data.loc[data.is_test == 0].drop(['is_test', 'target', 'application_number'], axis=1)\n",
    "test = data.loc[data.is_test == 1].drop(['is_test', 'target', 'application_number'], axis=1)\n",
    "target = data.loc[data.is_test == 0, 'target']"
   ]
  },
  {
   "cell_type": "markdown",
   "metadata": {},
   "source": [
    "- Обучим LightGBM:"
   ]
  },
  {
   "cell_type": "code",
   "execution_count": 19,
   "metadata": {},
   "outputs": [],
   "source": [
    "params = {\n",
    "    \"boosting_type\": \"gbdt\",\n",
    "    \"objective\": \"binary\",\n",
    "    \"metric\": \"auc\",\n",
    "    \"learning_rate\": 0.01,\n",
    "    \"n_estimators\": 1000,\n",
    "    \"n_jobs\": 6,\n",
    "    \"seed\": 27\n",
    "}"
   ]
  },
  {
   "cell_type": "code",
   "execution_count": 20,
   "metadata": {},
   "outputs": [
    {
     "name": "stdout",
     "output_type": "stream",
     "text": [
      "[LightGBM] [Info] Number of positive: 7118, number of negative: 80956\n",
      "[LightGBM] [Warning] Auto-choosing col-wise multi-threading, the overhead of testing was 0.039748 seconds.\n",
      "You can set `force_col_wise=true` to remove the overhead.\n",
      "[LightGBM] [Info] Total Bins 8972\n",
      "[LightGBM] [Info] Number of data points in the train set: 88074, number of used features: 52\n",
      "[LightGBM] [Info] [binary:BoostFromScore]: pavg=0.080818 -> initscore=-2.431279\n",
      "[LightGBM] [Info] Start training from score -2.431279\n",
      "Training until validation scores don't improve for 50 rounds\n",
      "[10]\ttraining's auc: 0.708678\tvalid_1's auc: 0.698234\n",
      "[20]\ttraining's auc: 0.714119\tvalid_1's auc: 0.703042\n",
      "[30]\ttraining's auc: 0.717545\tvalid_1's auc: 0.70572\n",
      "[40]\ttraining's auc: 0.721119\tvalid_1's auc: 0.707003\n",
      "[50]\ttraining's auc: 0.724156\tvalid_1's auc: 0.708052\n",
      "[60]\ttraining's auc: 0.726853\tvalid_1's auc: 0.708531\n",
      "[70]\ttraining's auc: 0.729025\tvalid_1's auc: 0.708603\n",
      "[80]\ttraining's auc: 0.73167\tvalid_1's auc: 0.709518\n",
      "[90]\ttraining's auc: 0.733839\tvalid_1's auc: 0.709547\n",
      "[100]\ttraining's auc: 0.735177\tvalid_1's auc: 0.709796\n",
      "[110]\ttraining's auc: 0.736928\tvalid_1's auc: 0.710862\n",
      "[120]\ttraining's auc: 0.739016\tvalid_1's auc: 0.71187\n",
      "[130]\ttraining's auc: 0.74122\tvalid_1's auc: 0.712981\n",
      "[140]\ttraining's auc: 0.742994\tvalid_1's auc: 0.713826\n",
      "[150]\ttraining's auc: 0.74491\tvalid_1's auc: 0.715009\n",
      "[160]\ttraining's auc: 0.746488\tvalid_1's auc: 0.715527\n",
      "[170]\ttraining's auc: 0.747939\tvalid_1's auc: 0.71628\n",
      "[180]\ttraining's auc: 0.749521\tvalid_1's auc: 0.717095\n",
      "[190]\ttraining's auc: 0.751092\tvalid_1's auc: 0.717836\n",
      "[200]\ttraining's auc: 0.752942\tvalid_1's auc: 0.718115\n",
      "[210]\ttraining's auc: 0.754449\tvalid_1's auc: 0.718489\n",
      "[220]\ttraining's auc: 0.755806\tvalid_1's auc: 0.718865\n",
      "[230]\ttraining's auc: 0.757254\tvalid_1's auc: 0.719087\n",
      "[240]\ttraining's auc: 0.758695\tvalid_1's auc: 0.719305\n",
      "[250]\ttraining's auc: 0.76018\tvalid_1's auc: 0.720123\n",
      "[260]\ttraining's auc: 0.761776\tvalid_1's auc: 0.720536\n",
      "[270]\ttraining's auc: 0.763353\tvalid_1's auc: 0.720908\n",
      "[280]\ttraining's auc: 0.764739\tvalid_1's auc: 0.721424\n",
      "[290]\ttraining's auc: 0.765927\tvalid_1's auc: 0.721743\n",
      "[300]\ttraining's auc: 0.76736\tvalid_1's auc: 0.722046\n",
      "[310]\ttraining's auc: 0.768672\tvalid_1's auc: 0.722576\n",
      "[320]\ttraining's auc: 0.769946\tvalid_1's auc: 0.723046\n",
      "[330]\ttraining's auc: 0.77114\tvalid_1's auc: 0.723204\n",
      "[340]\ttraining's auc: 0.772565\tvalid_1's auc: 0.723179\n",
      "[350]\ttraining's auc: 0.773828\tvalid_1's auc: 0.723329\n",
      "[360]\ttraining's auc: 0.775152\tvalid_1's auc: 0.723273\n",
      "[370]\ttraining's auc: 0.776559\tvalid_1's auc: 0.723399\n",
      "[380]\ttraining's auc: 0.777625\tvalid_1's auc: 0.723192\n",
      "[390]\ttraining's auc: 0.778836\tvalid_1's auc: 0.722926\n",
      "[400]\ttraining's auc: 0.780044\tvalid_1's auc: 0.723033\n",
      "[410]\ttraining's auc: 0.781373\tvalid_1's auc: 0.723163\n",
      "[420]\ttraining's auc: 0.782514\tvalid_1's auc: 0.723766\n",
      "[430]\ttraining's auc: 0.78378\tvalid_1's auc: 0.723623\n",
      "[440]\ttraining's auc: 0.785018\tvalid_1's auc: 0.723743\n",
      "[450]\ttraining's auc: 0.786311\tvalid_1's auc: 0.723866\n",
      "[460]\ttraining's auc: 0.787696\tvalid_1's auc: 0.723769\n",
      "[470]\ttraining's auc: 0.788896\tvalid_1's auc: 0.724161\n",
      "[480]\ttraining's auc: 0.789907\tvalid_1's auc: 0.72443\n",
      "[490]\ttraining's auc: 0.791155\tvalid_1's auc: 0.724752\n",
      "[500]\ttraining's auc: 0.792119\tvalid_1's auc: 0.724534\n",
      "[510]\ttraining's auc: 0.793195\tvalid_1's auc: 0.724845\n",
      "[520]\ttraining's auc: 0.794128\tvalid_1's auc: 0.72489\n",
      "[530]\ttraining's auc: 0.795079\tvalid_1's auc: 0.724741\n",
      "[540]\ttraining's auc: 0.796547\tvalid_1's auc: 0.724485\n",
      "[550]\ttraining's auc: 0.797586\tvalid_1's auc: 0.724494\n",
      "[560]\ttraining's auc: 0.798598\tvalid_1's auc: 0.724599\n",
      "[570]\ttraining's auc: 0.799605\tvalid_1's auc: 0.724659\n",
      "Early stopping, best iteration is:\n",
      "[520]\ttraining's auc: 0.794128\tvalid_1's auc: 0.72489\n",
      "Fold: 1, train-observations = 88074, valid-observations = 22019\n",
      "train-score = 0.7941, valid-score = 0.7249\n",
      "=====================================================================\n",
      "[LightGBM] [Info] Number of positive: 7117, number of negative: 80957\n",
      "[LightGBM] [Warning] Auto-choosing col-wise multi-threading, the overhead of testing was 0.024752 seconds.\n",
      "You can set `force_col_wise=true` to remove the overhead.\n",
      "[LightGBM] [Info] Total Bins 8977\n",
      "[LightGBM] [Info] Number of data points in the train set: 88074, number of used features: 52\n",
      "[LightGBM] [Info] [binary:BoostFromScore]: pavg=0.080807 -> initscore=-2.431432\n",
      "[LightGBM] [Info] Start training from score -2.431432\n",
      "Training until validation scores don't improve for 50 rounds\n",
      "[10]\ttraining's auc: 0.712279\tvalid_1's auc: 0.693234\n",
      "[20]\ttraining's auc: 0.717412\tvalid_1's auc: 0.696273\n",
      "[30]\ttraining's auc: 0.720587\tvalid_1's auc: 0.696844\n",
      "[40]\ttraining's auc: 0.722866\tvalid_1's auc: 0.698789\n",
      "[50]\ttraining's auc: 0.725826\tvalid_1's auc: 0.70087\n",
      "[60]\ttraining's auc: 0.727458\tvalid_1's auc: 0.700954\n",
      "[70]\ttraining's auc: 0.72919\tvalid_1's auc: 0.702124\n",
      "[80]\ttraining's auc: 0.731347\tvalid_1's auc: 0.703554\n",
      "[90]\ttraining's auc: 0.733379\tvalid_1's auc: 0.703542\n",
      "[100]\ttraining's auc: 0.734974\tvalid_1's auc: 0.704331\n",
      "[110]\ttraining's auc: 0.73618\tvalid_1's auc: 0.70478\n",
      "[120]\ttraining's auc: 0.737801\tvalid_1's auc: 0.705282\n",
      "[130]\ttraining's auc: 0.739953\tvalid_1's auc: 0.706061\n",
      "[140]\ttraining's auc: 0.741959\tvalid_1's auc: 0.706576\n",
      "[150]\ttraining's auc: 0.743448\tvalid_1's auc: 0.706927\n",
      "[160]\ttraining's auc: 0.744962\tvalid_1's auc: 0.707704\n",
      "[170]\ttraining's auc: 0.746234\tvalid_1's auc: 0.708199\n",
      "[180]\ttraining's auc: 0.747798\tvalid_1's auc: 0.708992\n",
      "[190]\ttraining's auc: 0.749545\tvalid_1's auc: 0.710342\n",
      "[200]\ttraining's auc: 0.751201\tvalid_1's auc: 0.710552\n",
      "[210]\ttraining's auc: 0.752927\tvalid_1's auc: 0.710776\n",
      "[220]\ttraining's auc: 0.754423\tvalid_1's auc: 0.711226\n",
      "[230]\ttraining's auc: 0.75587\tvalid_1's auc: 0.711374\n",
      "[240]\ttraining's auc: 0.757294\tvalid_1's auc: 0.712036\n",
      "[250]\ttraining's auc: 0.758579\tvalid_1's auc: 0.712645\n",
      "[260]\ttraining's auc: 0.760345\tvalid_1's auc: 0.713158\n",
      "[270]\ttraining's auc: 0.762361\tvalid_1's auc: 0.713611\n",
      "[280]\ttraining's auc: 0.76433\tvalid_1's auc: 0.714159\n",
      "[290]\ttraining's auc: 0.765922\tvalid_1's auc: 0.714622\n",
      "[300]\ttraining's auc: 0.767599\tvalid_1's auc: 0.714747\n",
      "[310]\ttraining's auc: 0.769186\tvalid_1's auc: 0.71484\n",
      "[320]\ttraining's auc: 0.770842\tvalid_1's auc: 0.715432\n",
      "[330]\ttraining's auc: 0.772354\tvalid_1's auc: 0.715852\n",
      "[340]\ttraining's auc: 0.773863\tvalid_1's auc: 0.715858\n",
      "[350]\ttraining's auc: 0.775288\tvalid_1's auc: 0.7167\n",
      "[360]\ttraining's auc: 0.776649\tvalid_1's auc: 0.7164\n",
      "[370]\ttraining's auc: 0.777885\tvalid_1's auc: 0.716775\n",
      "[380]\ttraining's auc: 0.779186\tvalid_1's auc: 0.717182\n",
      "[390]\ttraining's auc: 0.780424\tvalid_1's auc: 0.717294\n",
      "[400]\ttraining's auc: 0.78175\tvalid_1's auc: 0.717659\n",
      "[410]\ttraining's auc: 0.78299\tvalid_1's auc: 0.718054\n",
      "[420]\ttraining's auc: 0.784228\tvalid_1's auc: 0.718134\n",
      "[430]\ttraining's auc: 0.785562\tvalid_1's auc: 0.718432\n",
      "[440]\ttraining's auc: 0.786825\tvalid_1's auc: 0.718619\n",
      "[450]\ttraining's auc: 0.788074\tvalid_1's auc: 0.71872\n",
      "[460]\ttraining's auc: 0.789401\tvalid_1's auc: 0.71885\n",
      "[470]\ttraining's auc: 0.790551\tvalid_1's auc: 0.718851\n",
      "[480]\ttraining's auc: 0.791851\tvalid_1's auc: 0.718953\n",
      "[490]\ttraining's auc: 0.79293\tvalid_1's auc: 0.718848\n",
      "[500]\ttraining's auc: 0.794371\tvalid_1's auc: 0.719038\n",
      "[510]\ttraining's auc: 0.795383\tvalid_1's auc: 0.719324\n",
      "[520]\ttraining's auc: 0.796464\tvalid_1's auc: 0.719444\n",
      "[530]\ttraining's auc: 0.797656\tvalid_1's auc: 0.719824\n",
      "[540]\ttraining's auc: 0.798785\tvalid_1's auc: 0.71974\n",
      "[550]\ttraining's auc: 0.800001\tvalid_1's auc: 0.720207\n",
      "[560]\ttraining's auc: 0.801018\tvalid_1's auc: 0.720122\n",
      "[570]\ttraining's auc: 0.802306\tvalid_1's auc: 0.720349\n",
      "[580]\ttraining's auc: 0.803346\tvalid_1's auc: 0.720263\n",
      "[590]\ttraining's auc: 0.804416\tvalid_1's auc: 0.720013\n",
      "[600]\ttraining's auc: 0.805596\tvalid_1's auc: 0.720042\n",
      "[610]\ttraining's auc: 0.80661\tvalid_1's auc: 0.720194\n",
      "[620]\ttraining's auc: 0.807655\tvalid_1's auc: 0.720156\n",
      "Early stopping, best iteration is:\n",
      "[574]\ttraining's auc: 0.802692\tvalid_1's auc: 0.72044\n",
      "Fold: 2, train-observations = 88074, valid-observations = 22019\n",
      "train-score = 0.8027, valid-score = 0.7204\n",
      "=====================================================================\n",
      "[LightGBM] [Info] Number of positive: 7117, number of negative: 80957\n",
      "[LightGBM] [Warning] Auto-choosing col-wise multi-threading, the overhead of testing was 0.024070 seconds.\n",
      "You can set `force_col_wise=true` to remove the overhead.\n",
      "[LightGBM] [Info] Total Bins 8974\n",
      "[LightGBM] [Info] Number of data points in the train set: 88074, number of used features: 52\n",
      "[LightGBM] [Info] [binary:BoostFromScore]: pavg=0.080807 -> initscore=-2.431432\n",
      "[LightGBM] [Info] Start training from score -2.431432\n",
      "Training until validation scores don't improve for 50 rounds\n"
     ]
    },
    {
     "name": "stdout",
     "output_type": "stream",
     "text": [
      "[10]\ttraining's auc: 0.709085\tvalid_1's auc: 0.705081\n",
      "[20]\ttraining's auc: 0.712324\tvalid_1's auc: 0.708534\n",
      "[30]\ttraining's auc: 0.716483\tvalid_1's auc: 0.712094\n",
      "[40]\ttraining's auc: 0.719748\tvalid_1's auc: 0.714131\n",
      "[50]\ttraining's auc: 0.722223\tvalid_1's auc: 0.714996\n",
      "[60]\ttraining's auc: 0.725089\tvalid_1's auc: 0.715645\n",
      "[70]\ttraining's auc: 0.727297\tvalid_1's auc: 0.716878\n",
      "[80]\ttraining's auc: 0.728948\tvalid_1's auc: 0.717516\n",
      "[90]\ttraining's auc: 0.730874\tvalid_1's auc: 0.718458\n",
      "[100]\ttraining's auc: 0.732532\tvalid_1's auc: 0.719826\n",
      "[110]\ttraining's auc: 0.734076\tvalid_1's auc: 0.720144\n",
      "[120]\ttraining's auc: 0.736629\tvalid_1's auc: 0.721307\n",
      "[130]\ttraining's auc: 0.738318\tvalid_1's auc: 0.721687\n",
      "[140]\ttraining's auc: 0.740175\tvalid_1's auc: 0.722352\n",
      "[150]\ttraining's auc: 0.741759\tvalid_1's auc: 0.723065\n",
      "[160]\ttraining's auc: 0.743081\tvalid_1's auc: 0.723507\n",
      "[170]\ttraining's auc: 0.744666\tvalid_1's auc: 0.723772\n",
      "[180]\ttraining's auc: 0.746328\tvalid_1's auc: 0.724084\n",
      "[190]\ttraining's auc: 0.747641\tvalid_1's auc: 0.72448\n",
      "[200]\ttraining's auc: 0.749258\tvalid_1's auc: 0.724699\n",
      "[210]\ttraining's auc: 0.750797\tvalid_1's auc: 0.725071\n",
      "[220]\ttraining's auc: 0.75246\tvalid_1's auc: 0.72553\n",
      "[230]\ttraining's auc: 0.75408\tvalid_1's auc: 0.725634\n",
      "[240]\ttraining's auc: 0.755503\tvalid_1's auc: 0.725936\n",
      "[250]\ttraining's auc: 0.757073\tvalid_1's auc: 0.725975\n",
      "[260]\ttraining's auc: 0.758925\tvalid_1's auc: 0.726672\n",
      "[270]\ttraining's auc: 0.760619\tvalid_1's auc: 0.726733\n",
      "[280]\ttraining's auc: 0.761913\tvalid_1's auc: 0.726998\n",
      "[290]\ttraining's auc: 0.763418\tvalid_1's auc: 0.727208\n",
      "[300]\ttraining's auc: 0.764865\tvalid_1's auc: 0.72745\n",
      "[310]\ttraining's auc: 0.766165\tvalid_1's auc: 0.728014\n",
      "[320]\ttraining's auc: 0.767811\tvalid_1's auc: 0.72812\n",
      "[330]\ttraining's auc: 0.769346\tvalid_1's auc: 0.728442\n",
      "[340]\ttraining's auc: 0.770748\tvalid_1's auc: 0.728664\n",
      "[350]\ttraining's auc: 0.772199\tvalid_1's auc: 0.728439\n",
      "[360]\ttraining's auc: 0.773501\tvalid_1's auc: 0.728524\n",
      "[370]\ttraining's auc: 0.77484\tvalid_1's auc: 0.728795\n",
      "[380]\ttraining's auc: 0.776118\tvalid_1's auc: 0.728858\n",
      "[390]\ttraining's auc: 0.777293\tvalid_1's auc: 0.72914\n",
      "[400]\ttraining's auc: 0.778701\tvalid_1's auc: 0.729161\n",
      "[410]\ttraining's auc: 0.780134\tvalid_1's auc: 0.729195\n",
      "[420]\ttraining's auc: 0.781297\tvalid_1's auc: 0.729199\n",
      "[430]\ttraining's auc: 0.782558\tvalid_1's auc: 0.729184\n",
      "[440]\ttraining's auc: 0.783926\tvalid_1's auc: 0.729112\n",
      "[450]\ttraining's auc: 0.78509\tvalid_1's auc: 0.729206\n",
      "[460]\ttraining's auc: 0.78649\tvalid_1's auc: 0.729215\n",
      "[470]\ttraining's auc: 0.78773\tvalid_1's auc: 0.729332\n",
      "[480]\ttraining's auc: 0.788896\tvalid_1's auc: 0.7292\n",
      "[490]\ttraining's auc: 0.789962\tvalid_1's auc: 0.729081\n",
      "[500]\ttraining's auc: 0.79116\tvalid_1's auc: 0.729042\n",
      "[510]\ttraining's auc: 0.792361\tvalid_1's auc: 0.729179\n",
      "Early stopping, best iteration is:\n",
      "[463]\ttraining's auc: 0.786866\tvalid_1's auc: 0.729388\n",
      "Fold: 3, train-observations = 88074, valid-observations = 22019\n",
      "train-score = 0.7869, valid-score = 0.7294\n",
      "=====================================================================\n",
      "[LightGBM] [Info] Number of positive: 7118, number of negative: 80957\n",
      "[LightGBM] [Warning] Auto-choosing col-wise multi-threading, the overhead of testing was 0.021577 seconds.\n",
      "You can set `force_col_wise=true` to remove the overhead.\n",
      "[LightGBM] [Info] Total Bins 8972\n",
      "[LightGBM] [Info] Number of data points in the train set: 88075, number of used features: 52\n",
      "[LightGBM] [Info] [binary:BoostFromScore]: pavg=0.080817 -> initscore=-2.431291\n",
      "[LightGBM] [Info] Start training from score -2.431291\n",
      "Training until validation scores don't improve for 50 rounds\n",
      "[10]\ttraining's auc: 0.707747\tvalid_1's auc: 0.691627\n",
      "[20]\ttraining's auc: 0.715726\tvalid_1's auc: 0.69677\n",
      "[30]\ttraining's auc: 0.718089\tvalid_1's auc: 0.700487\n",
      "[40]\ttraining's auc: 0.72127\tvalid_1's auc: 0.702575\n",
      "[50]\ttraining's auc: 0.723608\tvalid_1's auc: 0.703467\n",
      "[60]\ttraining's auc: 0.72587\tvalid_1's auc: 0.704206\n",
      "[70]\ttraining's auc: 0.729471\tvalid_1's auc: 0.705596\n",
      "[80]\ttraining's auc: 0.731742\tvalid_1's auc: 0.706461\n",
      "[90]\ttraining's auc: 0.734188\tvalid_1's auc: 0.707905\n",
      "[100]\ttraining's auc: 0.736418\tvalid_1's auc: 0.708349\n",
      "[110]\ttraining's auc: 0.7384\tvalid_1's auc: 0.709147\n",
      "[120]\ttraining's auc: 0.740264\tvalid_1's auc: 0.710181\n",
      "[130]\ttraining's auc: 0.741637\tvalid_1's auc: 0.710729\n",
      "[140]\ttraining's auc: 0.74325\tvalid_1's auc: 0.711221\n",
      "[150]\ttraining's auc: 0.745191\tvalid_1's auc: 0.711743\n",
      "[160]\ttraining's auc: 0.746806\tvalid_1's auc: 0.711799\n",
      "[170]\ttraining's auc: 0.748219\tvalid_1's auc: 0.712854\n",
      "[180]\ttraining's auc: 0.74966\tvalid_1's auc: 0.713042\n",
      "[190]\ttraining's auc: 0.751482\tvalid_1's auc: 0.713558\n",
      "[200]\ttraining's auc: 0.753178\tvalid_1's auc: 0.714534\n",
      "[210]\ttraining's auc: 0.754432\tvalid_1's auc: 0.714816\n",
      "[220]\ttraining's auc: 0.756006\tvalid_1's auc: 0.715488\n",
      "[230]\ttraining's auc: 0.757778\tvalid_1's auc: 0.715696\n",
      "[240]\ttraining's auc: 0.759336\tvalid_1's auc: 0.716114\n",
      "[250]\ttraining's auc: 0.760834\tvalid_1's auc: 0.716557\n",
      "[260]\ttraining's auc: 0.762293\tvalid_1's auc: 0.71691\n",
      "[270]\ttraining's auc: 0.763863\tvalid_1's auc: 0.717327\n",
      "[280]\ttraining's auc: 0.765116\tvalid_1's auc: 0.717387\n",
      "[290]\ttraining's auc: 0.766619\tvalid_1's auc: 0.717707\n",
      "[300]\ttraining's auc: 0.768253\tvalid_1's auc: 0.718059\n",
      "[310]\ttraining's auc: 0.769843\tvalid_1's auc: 0.718522\n",
      "[320]\ttraining's auc: 0.771242\tvalid_1's auc: 0.71899\n",
      "[330]\ttraining's auc: 0.772643\tvalid_1's auc: 0.719213\n",
      "[340]\ttraining's auc: 0.773962\tvalid_1's auc: 0.719678\n",
      "[350]\ttraining's auc: 0.775413\tvalid_1's auc: 0.719743\n",
      "[360]\ttraining's auc: 0.777061\tvalid_1's auc: 0.719744\n",
      "[370]\ttraining's auc: 0.778169\tvalid_1's auc: 0.719893\n",
      "[380]\ttraining's auc: 0.779372\tvalid_1's auc: 0.720207\n",
      "[390]\ttraining's auc: 0.780437\tvalid_1's auc: 0.720242\n",
      "[400]\ttraining's auc: 0.781837\tvalid_1's auc: 0.720313\n",
      "[410]\ttraining's auc: 0.783096\tvalid_1's auc: 0.720294\n",
      "[420]\ttraining's auc: 0.784418\tvalid_1's auc: 0.720494\n",
      "[430]\ttraining's auc: 0.785863\tvalid_1's auc: 0.720664\n",
      "[440]\ttraining's auc: 0.787095\tvalid_1's auc: 0.720857\n",
      "[450]\ttraining's auc: 0.788471\tvalid_1's auc: 0.720932\n",
      "[460]\ttraining's auc: 0.789801\tvalid_1's auc: 0.721084\n",
      "[470]\ttraining's auc: 0.79094\tvalid_1's auc: 0.721177\n",
      "[480]\ttraining's auc: 0.79237\tvalid_1's auc: 0.721119\n",
      "[490]\ttraining's auc: 0.793659\tvalid_1's auc: 0.721116\n",
      "[500]\ttraining's auc: 0.795071\tvalid_1's auc: 0.72146\n",
      "[510]\ttraining's auc: 0.796191\tvalid_1's auc: 0.721602\n",
      "[520]\ttraining's auc: 0.797548\tvalid_1's auc: 0.721774\n",
      "[530]\ttraining's auc: 0.798668\tvalid_1's auc: 0.722035\n",
      "[540]\ttraining's auc: 0.799738\tvalid_1's auc: 0.72214\n",
      "[550]\ttraining's auc: 0.800843\tvalid_1's auc: 0.722042\n",
      "[560]\ttraining's auc: 0.801563\tvalid_1's auc: 0.722149\n",
      "[570]\ttraining's auc: 0.802674\tvalid_1's auc: 0.722405\n",
      "[580]\ttraining's auc: 0.803644\tvalid_1's auc: 0.722726\n",
      "[590]\ttraining's auc: 0.804627\tvalid_1's auc: 0.722628\n",
      "[600]\ttraining's auc: 0.805829\tvalid_1's auc: 0.722957\n",
      "[610]\ttraining's auc: 0.80663\tvalid_1's auc: 0.722937\n",
      "[620]\ttraining's auc: 0.807791\tvalid_1's auc: 0.723144\n",
      "[630]\ttraining's auc: 0.808856\tvalid_1's auc: 0.722891\n",
      "[640]\ttraining's auc: 0.809708\tvalid_1's auc: 0.72299\n",
      "[650]\ttraining's auc: 0.810652\tvalid_1's auc: 0.723444\n",
      "[660]\ttraining's auc: 0.811553\tvalid_1's auc: 0.723423\n",
      "[670]\ttraining's auc: 0.812382\tvalid_1's auc: 0.723558\n",
      "[680]\ttraining's auc: 0.813415\tvalid_1's auc: 0.723426\n",
      "[690]\ttraining's auc: 0.814165\tvalid_1's auc: 0.72345\n",
      "[700]\ttraining's auc: 0.814993\tvalid_1's auc: 0.723447\n",
      "[710]\ttraining's auc: 0.815769\tvalid_1's auc: 0.723549\n",
      "[720]\ttraining's auc: 0.816795\tvalid_1's auc: 0.723847\n",
      "[730]\ttraining's auc: 0.81763\tvalid_1's auc: 0.723717\n",
      "[740]\ttraining's auc: 0.81857\tvalid_1's auc: 0.723988\n",
      "[750]\ttraining's auc: 0.819527\tvalid_1's auc: 0.724249\n",
      "[760]\ttraining's auc: 0.820338\tvalid_1's auc: 0.724454\n",
      "[770]\ttraining's auc: 0.821276\tvalid_1's auc: 0.724689\n",
      "[780]\ttraining's auc: 0.822289\tvalid_1's auc: 0.724777\n",
      "[790]\ttraining's auc: 0.823128\tvalid_1's auc: 0.724552\n",
      "[800]\ttraining's auc: 0.823861\tvalid_1's auc: 0.724667\n",
      "[810]\ttraining's auc: 0.824767\tvalid_1's auc: 0.724642\n",
      "[820]\ttraining's auc: 0.825552\tvalid_1's auc: 0.724689\n",
      "Early stopping, best iteration is:\n",
      "[773]\ttraining's auc: 0.821562\tvalid_1's auc: 0.724812\n",
      "Fold: 4, train-observations = 88075, valid-observations = 22018\n",
      "train-score = 0.8216, valid-score = 0.7248\n",
      "=====================================================================\n"
     ]
    },
    {
     "name": "stdout",
     "output_type": "stream",
     "text": [
      "[LightGBM] [Info] Number of positive: 7118, number of negative: 80957\n",
      "[LightGBM] [Warning] Auto-choosing col-wise multi-threading, the overhead of testing was 0.041959 seconds.\n",
      "You can set `force_col_wise=true` to remove the overhead.\n",
      "[LightGBM] [Info] Total Bins 8976\n",
      "[LightGBM] [Info] Number of data points in the train set: 88075, number of used features: 52\n",
      "[LightGBM] [Info] [binary:BoostFromScore]: pavg=0.080817 -> initscore=-2.431291\n",
      "[LightGBM] [Info] Start training from score -2.431291\n",
      "Training until validation scores don't improve for 50 rounds\n",
      "[10]\ttraining's auc: 0.704418\tvalid_1's auc: 0.703168\n",
      "[20]\ttraining's auc: 0.711644\tvalid_1's auc: 0.709612\n",
      "[30]\ttraining's auc: 0.715043\tvalid_1's auc: 0.710994\n",
      "[40]\ttraining's auc: 0.719193\tvalid_1's auc: 0.714117\n",
      "[50]\ttraining's auc: 0.721851\tvalid_1's auc: 0.716014\n",
      "[60]\ttraining's auc: 0.723709\tvalid_1's auc: 0.716794\n",
      "[70]\ttraining's auc: 0.725789\tvalid_1's auc: 0.718507\n",
      "[80]\ttraining's auc: 0.727697\tvalid_1's auc: 0.719987\n",
      "[90]\ttraining's auc: 0.729197\tvalid_1's auc: 0.720706\n",
      "[100]\ttraining's auc: 0.731488\tvalid_1's auc: 0.721261\n",
      "[110]\ttraining's auc: 0.733222\tvalid_1's auc: 0.722355\n",
      "[120]\ttraining's auc: 0.735341\tvalid_1's auc: 0.723255\n",
      "[130]\ttraining's auc: 0.737568\tvalid_1's auc: 0.724197\n",
      "[140]\ttraining's auc: 0.739029\tvalid_1's auc: 0.723774\n",
      "[150]\ttraining's auc: 0.740389\tvalid_1's auc: 0.724451\n",
      "[160]\ttraining's auc: 0.742025\tvalid_1's auc: 0.725001\n",
      "[170]\ttraining's auc: 0.743924\tvalid_1's auc: 0.725478\n",
      "[180]\ttraining's auc: 0.745361\tvalid_1's auc: 0.726005\n",
      "[190]\ttraining's auc: 0.746939\tvalid_1's auc: 0.726605\n",
      "[200]\ttraining's auc: 0.748715\tvalid_1's auc: 0.726869\n",
      "[210]\ttraining's auc: 0.750359\tvalid_1's auc: 0.72768\n",
      "[220]\ttraining's auc: 0.752105\tvalid_1's auc: 0.728231\n",
      "[230]\ttraining's auc: 0.754065\tvalid_1's auc: 0.728479\n",
      "[240]\ttraining's auc: 0.755892\tvalid_1's auc: 0.728712\n",
      "[250]\ttraining's auc: 0.757569\tvalid_1's auc: 0.729262\n",
      "[260]\ttraining's auc: 0.759248\tvalid_1's auc: 0.729936\n",
      "[270]\ttraining's auc: 0.760898\tvalid_1's auc: 0.730222\n",
      "[280]\ttraining's auc: 0.762633\tvalid_1's auc: 0.730915\n",
      "[290]\ttraining's auc: 0.764438\tvalid_1's auc: 0.731533\n",
      "[300]\ttraining's auc: 0.766088\tvalid_1's auc: 0.731885\n",
      "[310]\ttraining's auc: 0.767644\tvalid_1's auc: 0.732272\n",
      "[320]\ttraining's auc: 0.769097\tvalid_1's auc: 0.732805\n",
      "[330]\ttraining's auc: 0.770629\tvalid_1's auc: 0.732753\n",
      "[340]\ttraining's auc: 0.772358\tvalid_1's auc: 0.732829\n",
      "[350]\ttraining's auc: 0.77394\tvalid_1's auc: 0.73293\n",
      "[360]\ttraining's auc: 0.775705\tvalid_1's auc: 0.732983\n",
      "[370]\ttraining's auc: 0.777162\tvalid_1's auc: 0.732822\n",
      "[380]\ttraining's auc: 0.778506\tvalid_1's auc: 0.733102\n",
      "[390]\ttraining's auc: 0.779779\tvalid_1's auc: 0.733459\n",
      "[400]\ttraining's auc: 0.781451\tvalid_1's auc: 0.733132\n",
      "[410]\ttraining's auc: 0.782868\tvalid_1's auc: 0.733215\n",
      "[420]\ttraining's auc: 0.78418\tvalid_1's auc: 0.733137\n",
      "[430]\ttraining's auc: 0.785403\tvalid_1's auc: 0.733054\n",
      "Early stopping, best iteration is:\n",
      "[389]\ttraining's auc: 0.77962\tvalid_1's auc: 0.733552\n",
      "Fold: 5, train-observations = 88075, valid-observations = 22018\n",
      "train-score = 0.7796, valid-score = 0.7336\n",
      "=====================================================================\n",
      "CV-results train: 0.797 +/- 0.014\n",
      "CV-results valid: 0.7266 +/- 0.004\n",
      "OOF-score = 0.7259\n",
      "Wall time: 1min 21s\n"
     ]
    }
   ],
   "source": [
    "%%time\n",
    "estimators_lgb, oof_score_lgb, fold_train_scores_lgb, fold_valid_scores_lgb, oof_predictions_lgb = make_cross_validation(\n",
    "    train, target, lgb, metric=roc_auc_score, cv_strategy=cv_strategy, params=params, categorical=dum_features_res\n",
    ")"
   ]
  },
  {
   "cell_type": "markdown",
   "metadata": {},
   "source": [
    "- Обучим XGBoost:"
   ]
  },
  {
   "cell_type": "code",
   "execution_count": 21,
   "metadata": {},
   "outputs": [],
   "source": [
    "params = {\n",
    "    \"booster\": \"gbtree\",\n",
    "    \"objective\": \"binary:logistic\",\n",
    "    \"eval_metric\": \"auc\",\n",
    "    \"learning_rate\": 0.1,\n",
    "    \"reg_lambda\": 100,\n",
    "    \"max_depth\": 4,\n",
    "    \"gamma\": 10,\n",
    "    \"nthread\": 6,\n",
    "    \"seed\": 27\n",
    "}"
   ]
  },
  {
   "cell_type": "code",
   "execution_count": 22,
   "metadata": {},
   "outputs": [
    {
     "name": "stdout",
     "output_type": "stream",
     "text": [
      "[0]\ttrain-auc:0.60106\tvalid-auc:0.59683\n",
      "[1]\ttrain-auc:0.62914\tvalid-auc:0.62025\n",
      "[2]\ttrain-auc:0.62915\tvalid-auc:0.62027\n",
      "[3]\ttrain-auc:0.67793\tvalid-auc:0.67666\n",
      "[4]\ttrain-auc:0.67924\tvalid-auc:0.67857\n",
      "[5]\ttrain-auc:0.68097\tvalid-auc:0.68056\n",
      "[6]\ttrain-auc:0.68104\tvalid-auc:0.68065\n",
      "[7]\ttrain-auc:0.68370\tvalid-auc:0.68344\n",
      "[8]\ttrain-auc:0.68407\tvalid-auc:0.68370\n",
      "[9]\ttrain-auc:0.68425\tvalid-auc:0.68371\n",
      "[10]\ttrain-auc:0.68716\tvalid-auc:0.68723\n",
      "[11]\ttrain-auc:0.68762\tvalid-auc:0.68759\n",
      "[12]\ttrain-auc:0.68816\tvalid-auc:0.68797\n",
      "[13]\ttrain-auc:0.68837\tvalid-auc:0.68817\n",
      "[14]\ttrain-auc:0.69114\tvalid-auc:0.68842\n",
      "[15]\ttrain-auc:0.69193\tvalid-auc:0.68923\n",
      "[16]\ttrain-auc:0.69226\tvalid-auc:0.68930\n",
      "[17]\ttrain-auc:0.69252\tvalid-auc:0.68956\n",
      "[18]\ttrain-auc:0.69286\tvalid-auc:0.68966\n",
      "[19]\ttrain-auc:0.69465\tvalid-auc:0.69179\n",
      "[20]\ttrain-auc:0.69578\tvalid-auc:0.69326\n",
      "[21]\ttrain-auc:0.69818\tvalid-auc:0.69492\n",
      "[22]\ttrain-auc:0.70020\tvalid-auc:0.69680\n",
      "[23]\ttrain-auc:0.70152\tvalid-auc:0.69781\n",
      "[24]\ttrain-auc:0.70363\tvalid-auc:0.69991\n",
      "[25]\ttrain-auc:0.70466\tvalid-auc:0.70057\n",
      "[26]\ttrain-auc:0.70525\tvalid-auc:0.70140\n",
      "[27]\ttrain-auc:0.70615\tvalid-auc:0.70112\n",
      "[28]\ttrain-auc:0.70785\tvalid-auc:0.70290\n",
      "[29]\ttrain-auc:0.70827\tvalid-auc:0.70274\n",
      "[30]\ttrain-auc:0.71017\tvalid-auc:0.70456\n",
      "[31]\ttrain-auc:0.71113\tvalid-auc:0.70542\n",
      "[32]\ttrain-auc:0.71277\tvalid-auc:0.70661\n",
      "[33]\ttrain-auc:0.71384\tvalid-auc:0.70711\n",
      "[34]\ttrain-auc:0.71514\tvalid-auc:0.70740\n",
      "[35]\ttrain-auc:0.71557\tvalid-auc:0.70825\n",
      "[36]\ttrain-auc:0.71693\tvalid-auc:0.70884\n",
      "[37]\ttrain-auc:0.71768\tvalid-auc:0.70974\n",
      "[38]\ttrain-auc:0.71857\tvalid-auc:0.71028\n",
      "[39]\ttrain-auc:0.71911\tvalid-auc:0.71010\n",
      "[40]\ttrain-auc:0.72020\tvalid-auc:0.71070\n",
      "[41]\ttrain-auc:0.72093\tvalid-auc:0.71115\n",
      "[42]\ttrain-auc:0.72157\tvalid-auc:0.71213\n",
      "[43]\ttrain-auc:0.72217\tvalid-auc:0.71238\n",
      "[44]\ttrain-auc:0.72269\tvalid-auc:0.71283\n",
      "[45]\ttrain-auc:0.72354\tvalid-auc:0.71309\n",
      "[46]\ttrain-auc:0.72404\tvalid-auc:0.71334\n",
      "[47]\ttrain-auc:0.72475\tvalid-auc:0.71413\n",
      "[48]\ttrain-auc:0.72510\tvalid-auc:0.71459\n",
      "[49]\ttrain-auc:0.72552\tvalid-auc:0.71513\n",
      "[50]\ttrain-auc:0.72635\tvalid-auc:0.71600\n",
      "[51]\ttrain-auc:0.72660\tvalid-auc:0.71606\n",
      "[52]\ttrain-auc:0.72694\tvalid-auc:0.71672\n",
      "[53]\ttrain-auc:0.72728\tvalid-auc:0.71683\n",
      "[54]\ttrain-auc:0.72758\tvalid-auc:0.71649\n",
      "[55]\ttrain-auc:0.72770\tvalid-auc:0.71690\n",
      "[56]\ttrain-auc:0.72806\tvalid-auc:0.71687\n",
      "[57]\ttrain-auc:0.72824\tvalid-auc:0.71705\n",
      "[58]\ttrain-auc:0.72890\tvalid-auc:0.71749\n",
      "[59]\ttrain-auc:0.72908\tvalid-auc:0.71779\n",
      "[60]\ttrain-auc:0.72923\tvalid-auc:0.71796\n",
      "[61]\ttrain-auc:0.72964\tvalid-auc:0.71821\n",
      "[62]\ttrain-auc:0.73014\tvalid-auc:0.71782\n",
      "[63]\ttrain-auc:0.73041\tvalid-auc:0.71861\n",
      "[64]\ttrain-auc:0.73072\tvalid-auc:0.71866\n",
      "[65]\ttrain-auc:0.73100\tvalid-auc:0.71882\n",
      "[66]\ttrain-auc:0.73113\tvalid-auc:0.71877\n",
      "[67]\ttrain-auc:0.73142\tvalid-auc:0.71905\n",
      "[68]\ttrain-auc:0.73154\tvalid-auc:0.71927\n",
      "[69]\ttrain-auc:0.73228\tvalid-auc:0.72002\n",
      "[70]\ttrain-auc:0.73254\tvalid-auc:0.71988\n",
      "[71]\ttrain-auc:0.73275\tvalid-auc:0.72034\n",
      "[72]\ttrain-auc:0.73302\tvalid-auc:0.72064\n",
      "[73]\ttrain-auc:0.73315\tvalid-auc:0.72067\n",
      "[74]\ttrain-auc:0.73319\tvalid-auc:0.72091\n",
      "[75]\ttrain-auc:0.73334\tvalid-auc:0.72071\n",
      "[76]\ttrain-auc:0.73340\tvalid-auc:0.72101\n",
      "[77]\ttrain-auc:0.73360\tvalid-auc:0.72122\n",
      "[78]\ttrain-auc:0.73354\tvalid-auc:0.72161\n",
      "[79]\ttrain-auc:0.73373\tvalid-auc:0.72159\n",
      "[80]\ttrain-auc:0.73383\tvalid-auc:0.72183\n",
      "[81]\ttrain-auc:0.73407\tvalid-auc:0.72128\n",
      "[82]\ttrain-auc:0.73416\tvalid-auc:0.72136\n",
      "[83]\ttrain-auc:0.73449\tvalid-auc:0.72155\n",
      "[84]\ttrain-auc:0.73469\tvalid-auc:0.72175\n",
      "[85]\ttrain-auc:0.73478\tvalid-auc:0.72160\n",
      "[86]\ttrain-auc:0.73508\tvalid-auc:0.72198\n",
      "[87]\ttrain-auc:0.73539\tvalid-auc:0.72235\n",
      "[88]\ttrain-auc:0.73543\tvalid-auc:0.72227\n",
      "[89]\ttrain-auc:0.73543\tvalid-auc:0.72227\n",
      "[90]\ttrain-auc:0.73543\tvalid-auc:0.72227\n",
      "[91]\ttrain-auc:0.73543\tvalid-auc:0.72227\n",
      "[92]\ttrain-auc:0.73543\tvalid-auc:0.72227\n",
      "[93]\ttrain-auc:0.73543\tvalid-auc:0.72227\n",
      "[94]\ttrain-auc:0.73543\tvalid-auc:0.72227\n",
      "[95]\ttrain-auc:0.73543\tvalid-auc:0.72227\n",
      "[96]\ttrain-auc:0.73543\tvalid-auc:0.72227\n",
      "[97]\ttrain-auc:0.73543\tvalid-auc:0.72227\n",
      "[98]\ttrain-auc:0.73543\tvalid-auc:0.72227\n",
      "[99]\ttrain-auc:0.73543\tvalid-auc:0.72227\n",
      "[100]\ttrain-auc:0.73543\tvalid-auc:0.72227\n",
      "[101]\ttrain-auc:0.73543\tvalid-auc:0.72227\n",
      "[102]\ttrain-auc:0.73543\tvalid-auc:0.72227\n",
      "[103]\ttrain-auc:0.73543\tvalid-auc:0.72227\n",
      "[104]\ttrain-auc:0.73543\tvalid-auc:0.72227\n",
      "[105]\ttrain-auc:0.73553\tvalid-auc:0.72244\n",
      "[106]\ttrain-auc:0.73553\tvalid-auc:0.72244\n",
      "[107]\ttrain-auc:0.73553\tvalid-auc:0.72244\n",
      "[108]\ttrain-auc:0.73553\tvalid-auc:0.72244\n",
      "[109]\ttrain-auc:0.73553\tvalid-auc:0.72244\n",
      "[110]\ttrain-auc:0.73553\tvalid-auc:0.72244\n",
      "[111]\ttrain-auc:0.73553\tvalid-auc:0.72244\n",
      "[112]\ttrain-auc:0.73553\tvalid-auc:0.72244\n",
      "[113]\ttrain-auc:0.73553\tvalid-auc:0.72244\n",
      "[114]\ttrain-auc:0.73553\tvalid-auc:0.72244\n",
      "[115]\ttrain-auc:0.73553\tvalid-auc:0.72244\n",
      "[116]\ttrain-auc:0.73553\tvalid-auc:0.72244\n",
      "[117]\ttrain-auc:0.73553\tvalid-auc:0.72244\n",
      "[118]\ttrain-auc:0.73553\tvalid-auc:0.72244\n",
      "[119]\ttrain-auc:0.73553\tvalid-auc:0.72244\n",
      "[120]\ttrain-auc:0.73553\tvalid-auc:0.72244\n",
      "[121]\ttrain-auc:0.73553\tvalid-auc:0.72244\n",
      "[122]\ttrain-auc:0.73553\tvalid-auc:0.72244\n",
      "[123]\ttrain-auc:0.73553\tvalid-auc:0.72244\n",
      "[124]\ttrain-auc:0.73553\tvalid-auc:0.72244\n",
      "[125]\ttrain-auc:0.73553\tvalid-auc:0.72244\n",
      "[126]\ttrain-auc:0.73553\tvalid-auc:0.72244\n",
      "[127]\ttrain-auc:0.73553\tvalid-auc:0.72244\n",
      "[128]\ttrain-auc:0.73553\tvalid-auc:0.72244\n",
      "[129]\ttrain-auc:0.73553\tvalid-auc:0.72244\n",
      "[130]\ttrain-auc:0.73553\tvalid-auc:0.72244\n",
      "[131]\ttrain-auc:0.73553\tvalid-auc:0.72244\n",
      "[132]\ttrain-auc:0.73553\tvalid-auc:0.72244\n",
      "[133]\ttrain-auc:0.73553\tvalid-auc:0.72244\n",
      "[134]\ttrain-auc:0.73553\tvalid-auc:0.72244\n",
      "[135]\ttrain-auc:0.73553\tvalid-auc:0.72244\n",
      "[136]\ttrain-auc:0.73553\tvalid-auc:0.72244\n",
      "[137]\ttrain-auc:0.73553\tvalid-auc:0.72244\n",
      "[138]\ttrain-auc:0.73553\tvalid-auc:0.72244\n",
      "[139]\ttrain-auc:0.73553\tvalid-auc:0.72244\n",
      "[140]\ttrain-auc:0.73553\tvalid-auc:0.72244\n",
      "[141]\ttrain-auc:0.73553\tvalid-auc:0.72244\n",
      "[142]\ttrain-auc:0.73553\tvalid-auc:0.72244\n",
      "[143]\ttrain-auc:0.73553\tvalid-auc:0.72244\n",
      "[144]\ttrain-auc:0.73553\tvalid-auc:0.72244\n",
      "[145]\ttrain-auc:0.73553\tvalid-auc:0.72244\n",
      "[146]\ttrain-auc:0.73553\tvalid-auc:0.72244\n",
      "[147]\ttrain-auc:0.73553\tvalid-auc:0.72244\n",
      "[148]\ttrain-auc:0.73553\tvalid-auc:0.72244\n",
      "[149]\ttrain-auc:0.73553\tvalid-auc:0.72244\n",
      "[150]\ttrain-auc:0.73553\tvalid-auc:0.72244\n",
      "[151]\ttrain-auc:0.73553\tvalid-auc:0.72244\n",
      "[152]\ttrain-auc:0.73553\tvalid-auc:0.72244\n",
      "[153]\ttrain-auc:0.73553\tvalid-auc:0.72244\n",
      "[154]\ttrain-auc:0.73553\tvalid-auc:0.72244\n",
      "[155]\ttrain-auc:0.73553\tvalid-auc:0.72244\n",
      "Fold: 1, train-observations = 88074, valid-observations = 22019\n",
      "train-score = 0.7355, valid-score = 0.7224\n",
      "=====================================================================\n",
      "[0]\ttrain-auc:0.60627\tvalid-auc:0.59693\n",
      "[1]\ttrain-auc:0.60666\tvalid-auc:0.59717\n",
      "[2]\ttrain-auc:0.62719\tvalid-auc:0.62030\n",
      "[3]\ttrain-auc:0.63408\tvalid-auc:0.63029\n",
      "[4]\ttrain-auc:0.68160\tvalid-auc:0.67416\n",
      "[5]\ttrain-auc:0.68216\tvalid-auc:0.67469\n",
      "[6]\ttrain-auc:0.68419\tvalid-auc:0.67698\n",
      "[7]\ttrain-auc:0.68735\tvalid-auc:0.67787\n",
      "[8]\ttrain-auc:0.68739\tvalid-auc:0.67787\n",
      "[9]\ttrain-auc:0.68739\tvalid-auc:0.67788\n",
      "[10]\ttrain-auc:0.68758\tvalid-auc:0.67808\n",
      "[11]\ttrain-auc:0.68816\tvalid-auc:0.67848\n",
      "[12]\ttrain-auc:0.69048\tvalid-auc:0.67953\n",
      "[13]\ttrain-auc:0.69082\tvalid-auc:0.67947\n",
      "[14]\ttrain-auc:0.69462\tvalid-auc:0.68363\n",
      "[15]\ttrain-auc:0.69502\tvalid-auc:0.68347\n",
      "[16]\ttrain-auc:0.69526\tvalid-auc:0.68375\n",
      "[17]\ttrain-auc:0.69632\tvalid-auc:0.68411\n",
      "[18]\ttrain-auc:0.69857\tvalid-auc:0.68593\n",
      "[19]\ttrain-auc:0.69887\tvalid-auc:0.68613\n",
      "[20]\ttrain-auc:0.69914\tvalid-auc:0.68620\n",
      "[21]\ttrain-auc:0.69993\tvalid-auc:0.68772\n",
      "[22]\ttrain-auc:0.70140\tvalid-auc:0.68813\n",
      "[23]\ttrain-auc:0.70382\tvalid-auc:0.69005\n",
      "[24]\ttrain-auc:0.70477\tvalid-auc:0.69052\n",
      "[25]\ttrain-auc:0.70515\tvalid-auc:0.69090\n",
      "[26]\ttrain-auc:0.70553\tvalid-auc:0.69125\n",
      "[27]\ttrain-auc:0.70582\tvalid-auc:0.69184\n",
      "[28]\ttrain-auc:0.70761\tvalid-auc:0.69385\n",
      "[29]\ttrain-auc:0.70897\tvalid-auc:0.69539\n",
      "[30]\ttrain-auc:0.70969\tvalid-auc:0.69597\n",
      "[31]\ttrain-auc:0.71166\tvalid-auc:0.69745\n",
      "[32]\ttrain-auc:0.71285\tvalid-auc:0.69916\n",
      "[33]\ttrain-auc:0.71365\tvalid-auc:0.69962\n",
      "[34]\ttrain-auc:0.71434\tvalid-auc:0.70053\n",
      "[35]\ttrain-auc:0.71469\tvalid-auc:0.70070\n",
      "[36]\ttrain-auc:0.71557\tvalid-auc:0.70125\n",
      "[37]\ttrain-auc:0.71709\tvalid-auc:0.70227\n",
      "[38]\ttrain-auc:0.71785\tvalid-auc:0.70304\n"
     ]
    },
    {
     "name": "stdout",
     "output_type": "stream",
     "text": [
      "[39]\ttrain-auc:0.71842\tvalid-auc:0.70353\n",
      "[40]\ttrain-auc:0.71944\tvalid-auc:0.70405\n",
      "[41]\ttrain-auc:0.72044\tvalid-auc:0.70500\n",
      "[42]\ttrain-auc:0.72064\tvalid-auc:0.70552\n",
      "[43]\ttrain-auc:0.72132\tvalid-auc:0.70614\n",
      "[44]\ttrain-auc:0.72181\tvalid-auc:0.70631\n",
      "[45]\ttrain-auc:0.72238\tvalid-auc:0.70653\n",
      "[46]\ttrain-auc:0.72303\tvalid-auc:0.70710\n",
      "[47]\ttrain-auc:0.72392\tvalid-auc:0.70778\n",
      "[48]\ttrain-auc:0.72449\tvalid-auc:0.70873\n",
      "[49]\ttrain-auc:0.72476\tvalid-auc:0.70866\n",
      "[50]\ttrain-auc:0.72558\tvalid-auc:0.70907\n",
      "[51]\ttrain-auc:0.72625\tvalid-auc:0.70937\n",
      "[52]\ttrain-auc:0.72675\tvalid-auc:0.70950\n",
      "[53]\ttrain-auc:0.72707\tvalid-auc:0.70982\n",
      "[54]\ttrain-auc:0.72736\tvalid-auc:0.70999\n",
      "[55]\ttrain-auc:0.72802\tvalid-auc:0.71081\n",
      "[56]\ttrain-auc:0.72852\tvalid-auc:0.71139\n",
      "[57]\ttrain-auc:0.72869\tvalid-auc:0.71164\n",
      "[58]\ttrain-auc:0.72905\tvalid-auc:0.71170\n",
      "[59]\ttrain-auc:0.72966\tvalid-auc:0.71110\n",
      "[60]\ttrain-auc:0.72981\tvalid-auc:0.71172\n",
      "[61]\ttrain-auc:0.73013\tvalid-auc:0.71193\n",
      "[62]\ttrain-auc:0.73038\tvalid-auc:0.71231\n",
      "[63]\ttrain-auc:0.73065\tvalid-auc:0.71252\n",
      "[64]\ttrain-auc:0.73078\tvalid-auc:0.71312\n",
      "[65]\ttrain-auc:0.73100\tvalid-auc:0.71297\n",
      "[66]\ttrain-auc:0.73150\tvalid-auc:0.71313\n",
      "[67]\ttrain-auc:0.73179\tvalid-auc:0.71315\n",
      "[68]\ttrain-auc:0.73206\tvalid-auc:0.71339\n",
      "[69]\ttrain-auc:0.73235\tvalid-auc:0.71412\n",
      "[70]\ttrain-auc:0.73257\tvalid-auc:0.71397\n",
      "[71]\ttrain-auc:0.73298\tvalid-auc:0.71434\n",
      "[72]\ttrain-auc:0.73315\tvalid-auc:0.71460\n",
      "[73]\ttrain-auc:0.73336\tvalid-auc:0.71497\n",
      "[74]\ttrain-auc:0.73385\tvalid-auc:0.71509\n",
      "[75]\ttrain-auc:0.73396\tvalid-auc:0.71497\n",
      "[76]\ttrain-auc:0.73427\tvalid-auc:0.71518\n",
      "[77]\ttrain-auc:0.73465\tvalid-auc:0.71561\n",
      "[78]\ttrain-auc:0.73483\tvalid-auc:0.71591\n",
      "[79]\ttrain-auc:0.73499\tvalid-auc:0.71551\n",
      "[80]\ttrain-auc:0.73515\tvalid-auc:0.71538\n",
      "[81]\ttrain-auc:0.73545\tvalid-auc:0.71540\n",
      "[82]\ttrain-auc:0.73545\tvalid-auc:0.71540\n",
      "[83]\ttrain-auc:0.73545\tvalid-auc:0.71540\n",
      "[84]\ttrain-auc:0.73545\tvalid-auc:0.71540\n",
      "[85]\ttrain-auc:0.73545\tvalid-auc:0.71540\n",
      "[86]\ttrain-auc:0.73545\tvalid-auc:0.71540\n",
      "[87]\ttrain-auc:0.73545\tvalid-auc:0.71540\n",
      "[88]\ttrain-auc:0.73545\tvalid-auc:0.71540\n",
      "[89]\ttrain-auc:0.73545\tvalid-auc:0.71540\n",
      "[90]\ttrain-auc:0.73545\tvalid-auc:0.71540\n",
      "[91]\ttrain-auc:0.73545\tvalid-auc:0.71540\n",
      "[92]\ttrain-auc:0.73545\tvalid-auc:0.71540\n",
      "[93]\ttrain-auc:0.73545\tvalid-auc:0.71540\n",
      "[94]\ttrain-auc:0.73545\tvalid-auc:0.71540\n",
      "[95]\ttrain-auc:0.73545\tvalid-auc:0.71540\n",
      "[96]\ttrain-auc:0.73545\tvalid-auc:0.71540\n",
      "[97]\ttrain-auc:0.73545\tvalid-auc:0.71540\n",
      "[98]\ttrain-auc:0.73545\tvalid-auc:0.71540\n",
      "[99]\ttrain-auc:0.73545\tvalid-auc:0.71540\n",
      "[100]\ttrain-auc:0.73545\tvalid-auc:0.71540\n",
      "[101]\ttrain-auc:0.73545\tvalid-auc:0.71540\n",
      "[102]\ttrain-auc:0.73545\tvalid-auc:0.71540\n",
      "[103]\ttrain-auc:0.73545\tvalid-auc:0.71540\n",
      "[104]\ttrain-auc:0.73545\tvalid-auc:0.71540\n",
      "[105]\ttrain-auc:0.73545\tvalid-auc:0.71540\n",
      "[106]\ttrain-auc:0.73545\tvalid-auc:0.71540\n",
      "[107]\ttrain-auc:0.73545\tvalid-auc:0.71540\n",
      "[108]\ttrain-auc:0.73545\tvalid-auc:0.71540\n",
      "[109]\ttrain-auc:0.73545\tvalid-auc:0.71540\n",
      "[110]\ttrain-auc:0.73545\tvalid-auc:0.71540\n",
      "[111]\ttrain-auc:0.73545\tvalid-auc:0.71540\n",
      "[112]\ttrain-auc:0.73545\tvalid-auc:0.71540\n",
      "[113]\ttrain-auc:0.73545\tvalid-auc:0.71540\n",
      "[114]\ttrain-auc:0.73545\tvalid-auc:0.71540\n",
      "[115]\ttrain-auc:0.73545\tvalid-auc:0.71540\n",
      "[116]\ttrain-auc:0.73545\tvalid-auc:0.71540\n",
      "[117]\ttrain-auc:0.73545\tvalid-auc:0.71540\n",
      "[118]\ttrain-auc:0.73545\tvalid-auc:0.71540\n",
      "[119]\ttrain-auc:0.73545\tvalid-auc:0.71540\n",
      "[120]\ttrain-auc:0.73545\tvalid-auc:0.71540\n",
      "[121]\ttrain-auc:0.73545\tvalid-auc:0.71540\n",
      "[122]\ttrain-auc:0.73545\tvalid-auc:0.71540\n",
      "[123]\ttrain-auc:0.73545\tvalid-auc:0.71540\n",
      "[124]\ttrain-auc:0.73545\tvalid-auc:0.71540\n",
      "[125]\ttrain-auc:0.73545\tvalid-auc:0.71540\n",
      "[126]\ttrain-auc:0.73545\tvalid-auc:0.71540\n",
      "[127]\ttrain-auc:0.73545\tvalid-auc:0.71540\n",
      "[128]\ttrain-auc:0.73545\tvalid-auc:0.71540\n",
      "Fold: 2, train-observations = 88074, valid-observations = 22019\n",
      "train-score = 0.7354, valid-score = 0.7154\n",
      "=====================================================================\n",
      "[0]\ttrain-auc:0.59843\tvalid-auc:0.60377\n",
      "[1]\ttrain-auc:0.63074\tvalid-auc:0.63726\n",
      "[2]\ttrain-auc:0.63085\tvalid-auc:0.63742\n",
      "[3]\ttrain-auc:0.63948\tvalid-auc:0.64151\n",
      "[4]\ttrain-auc:0.64003\tvalid-auc:0.64164\n",
      "[5]\ttrain-auc:0.64002\tvalid-auc:0.64163\n",
      "[6]\ttrain-auc:0.68071\tvalid-auc:0.68091\n",
      "[7]\ttrain-auc:0.68071\tvalid-auc:0.68096\n",
      "[8]\ttrain-auc:0.68310\tvalid-auc:0.68411\n",
      "[9]\ttrain-auc:0.68316\tvalid-auc:0.68416\n",
      "[10]\ttrain-auc:0.68331\tvalid-auc:0.68486\n",
      "[11]\ttrain-auc:0.68368\tvalid-auc:0.68522\n",
      "[12]\ttrain-auc:0.68383\tvalid-auc:0.68582\n",
      "[13]\ttrain-auc:0.68665\tvalid-auc:0.68749\n",
      "[14]\ttrain-auc:0.68679\tvalid-auc:0.68749\n",
      "[15]\ttrain-auc:0.68714\tvalid-auc:0.68764\n",
      "[16]\ttrain-auc:0.68872\tvalid-auc:0.68906\n",
      "[17]\ttrain-auc:0.68851\tvalid-auc:0.68846\n",
      "[18]\ttrain-auc:0.68887\tvalid-auc:0.68903\n",
      "[19]\ttrain-auc:0.69317\tvalid-auc:0.69260\n",
      "[20]\ttrain-auc:0.69655\tvalid-auc:0.69604\n",
      "[21]\ttrain-auc:0.69727\tvalid-auc:0.69667\n",
      "[22]\ttrain-auc:0.69963\tvalid-auc:0.69881\n",
      "[23]\ttrain-auc:0.69995\tvalid-auc:0.69910\n",
      "[24]\ttrain-auc:0.70057\tvalid-auc:0.69976\n",
      "[25]\ttrain-auc:0.70205\tvalid-auc:0.70112\n",
      "[26]\ttrain-auc:0.70279\tvalid-auc:0.70176\n",
      "[27]\ttrain-auc:0.70367\tvalid-auc:0.70300\n",
      "[28]\ttrain-auc:0.70557\tvalid-auc:0.70455\n",
      "[29]\ttrain-auc:0.70671\tvalid-auc:0.70624\n",
      "[30]\ttrain-auc:0.70722\tvalid-auc:0.70621\n",
      "[31]\ttrain-auc:0.70871\tvalid-auc:0.70749\n",
      "[32]\ttrain-auc:0.71027\tvalid-auc:0.70947\n",
      "[33]\ttrain-auc:0.71140\tvalid-auc:0.71005\n",
      "[34]\ttrain-auc:0.71222\tvalid-auc:0.71101\n",
      "[35]\ttrain-auc:0.71283\tvalid-auc:0.71139\n",
      "[36]\ttrain-auc:0.71379\tvalid-auc:0.71236\n",
      "[37]\ttrain-auc:0.71450\tvalid-auc:0.71319\n",
      "[38]\ttrain-auc:0.71567\tvalid-auc:0.71434\n",
      "[39]\ttrain-auc:0.71625\tvalid-auc:0.71435\n",
      "[40]\ttrain-auc:0.71685\tvalid-auc:0.71490\n",
      "[41]\ttrain-auc:0.71767\tvalid-auc:0.71537\n",
      "[42]\ttrain-auc:0.71850\tvalid-auc:0.71612\n",
      "[43]\ttrain-auc:0.71959\tvalid-auc:0.71701\n",
      "[44]\ttrain-auc:0.72026\tvalid-auc:0.71708\n",
      "[45]\ttrain-auc:0.72077\tvalid-auc:0.71739\n",
      "[46]\ttrain-auc:0.72150\tvalid-auc:0.71817\n",
      "[47]\ttrain-auc:0.72240\tvalid-auc:0.71830\n",
      "[48]\ttrain-auc:0.72285\tvalid-auc:0.71896\n",
      "[49]\ttrain-auc:0.72337\tvalid-auc:0.71910\n",
      "[50]\ttrain-auc:0.72360\tvalid-auc:0.71932\n",
      "[51]\ttrain-auc:0.72422\tvalid-auc:0.71963\n",
      "[52]\ttrain-auc:0.72490\tvalid-auc:0.71996\n",
      "[53]\ttrain-auc:0.72557\tvalid-auc:0.72063\n",
      "[54]\ttrain-auc:0.72592\tvalid-auc:0.72071\n",
      "[55]\ttrain-auc:0.72596\tvalid-auc:0.72136\n",
      "[56]\ttrain-auc:0.72655\tvalid-auc:0.72154\n",
      "[57]\ttrain-auc:0.72682\tvalid-auc:0.72170\n",
      "[58]\ttrain-auc:0.72732\tvalid-auc:0.72190\n",
      "[59]\ttrain-auc:0.72762\tvalid-auc:0.72206\n",
      "[60]\ttrain-auc:0.72819\tvalid-auc:0.72294\n",
      "[61]\ttrain-auc:0.72833\tvalid-auc:0.72303\n",
      "[62]\ttrain-auc:0.72873\tvalid-auc:0.72311\n",
      "[63]\ttrain-auc:0.72864\tvalid-auc:0.72338\n",
      "[64]\ttrain-auc:0.72886\tvalid-auc:0.72350\n",
      "[65]\ttrain-auc:0.72926\tvalid-auc:0.72379\n",
      "[66]\ttrain-auc:0.72954\tvalid-auc:0.72394\n",
      "[67]\ttrain-auc:0.72982\tvalid-auc:0.72406\n",
      "[68]\ttrain-auc:0.73010\tvalid-auc:0.72440\n",
      "[69]\ttrain-auc:0.73030\tvalid-auc:0.72452\n",
      "[70]\ttrain-auc:0.73058\tvalid-auc:0.72478\n",
      "[71]\ttrain-auc:0.73064\tvalid-auc:0.72516\n",
      "[72]\ttrain-auc:0.73080\tvalid-auc:0.72522\n",
      "[73]\ttrain-auc:0.73083\tvalid-auc:0.72519\n",
      "[74]\ttrain-auc:0.73115\tvalid-auc:0.72524\n",
      "[75]\ttrain-auc:0.73162\tvalid-auc:0.72539\n",
      "[76]\ttrain-auc:0.73189\tvalid-auc:0.72546\n",
      "[77]\ttrain-auc:0.73208\tvalid-auc:0.72564\n",
      "[78]\ttrain-auc:0.73260\tvalid-auc:0.72562\n",
      "[79]\ttrain-auc:0.73284\tvalid-auc:0.72571\n",
      "[80]\ttrain-auc:0.73297\tvalid-auc:0.72589\n",
      "[81]\ttrain-auc:0.73315\tvalid-auc:0.72596\n",
      "[82]\ttrain-auc:0.73323\tvalid-auc:0.72611\n",
      "[83]\ttrain-auc:0.73346\tvalid-auc:0.72618\n",
      "[84]\ttrain-auc:0.73353\tvalid-auc:0.72625\n",
      "[85]\ttrain-auc:0.73369\tvalid-auc:0.72628\n",
      "[86]\ttrain-auc:0.73373\tvalid-auc:0.72631\n",
      "[87]\ttrain-auc:0.73386\tvalid-auc:0.72616\n",
      "[88]\ttrain-auc:0.73386\tvalid-auc:0.72616\n",
      "[89]\ttrain-auc:0.73386\tvalid-auc:0.72616\n",
      "[90]\ttrain-auc:0.73386\tvalid-auc:0.72616\n",
      "[91]\ttrain-auc:0.73386\tvalid-auc:0.72616\n",
      "[92]\ttrain-auc:0.73386\tvalid-auc:0.72616\n",
      "[93]\ttrain-auc:0.73386\tvalid-auc:0.72616\n",
      "[94]\ttrain-auc:0.73386\tvalid-auc:0.72616\n",
      "[95]\ttrain-auc:0.73386\tvalid-auc:0.72616\n",
      "[96]\ttrain-auc:0.73386\tvalid-auc:0.72616\n",
      "[97]\ttrain-auc:0.73386\tvalid-auc:0.72616\n",
      "[98]\ttrain-auc:0.73386\tvalid-auc:0.72616\n",
      "[99]\ttrain-auc:0.73386\tvalid-auc:0.72616\n",
      "[100]\ttrain-auc:0.73386\tvalid-auc:0.72616\n",
      "[101]\ttrain-auc:0.73386\tvalid-auc:0.72616\n",
      "[102]\ttrain-auc:0.73386\tvalid-auc:0.72616\n",
      "[103]\ttrain-auc:0.73386\tvalid-auc:0.72616\n",
      "[104]\ttrain-auc:0.73386\tvalid-auc:0.72616\n"
     ]
    },
    {
     "name": "stdout",
     "output_type": "stream",
     "text": [
      "[105]\ttrain-auc:0.73386\tvalid-auc:0.72616\n",
      "[106]\ttrain-auc:0.73386\tvalid-auc:0.72616\n",
      "[107]\ttrain-auc:0.73386\tvalid-auc:0.72616\n",
      "[108]\ttrain-auc:0.73386\tvalid-auc:0.72616\n",
      "[109]\ttrain-auc:0.73386\tvalid-auc:0.72616\n",
      "[110]\ttrain-auc:0.73386\tvalid-auc:0.72616\n",
      "[111]\ttrain-auc:0.73386\tvalid-auc:0.72616\n",
      "[112]\ttrain-auc:0.73386\tvalid-auc:0.72616\n",
      "[113]\ttrain-auc:0.73386\tvalid-auc:0.72616\n",
      "[114]\ttrain-auc:0.73386\tvalid-auc:0.72616\n",
      "[115]\ttrain-auc:0.73386\tvalid-auc:0.72616\n",
      "[116]\ttrain-auc:0.73386\tvalid-auc:0.72616\n",
      "[117]\ttrain-auc:0.73386\tvalid-auc:0.72616\n",
      "[118]\ttrain-auc:0.73386\tvalid-auc:0.72616\n",
      "[119]\ttrain-auc:0.73386\tvalid-auc:0.72616\n",
      "[120]\ttrain-auc:0.73386\tvalid-auc:0.72616\n",
      "[121]\ttrain-auc:0.73386\tvalid-auc:0.72616\n",
      "[122]\ttrain-auc:0.73386\tvalid-auc:0.72616\n",
      "[123]\ttrain-auc:0.73386\tvalid-auc:0.72616\n",
      "[124]\ttrain-auc:0.73386\tvalid-auc:0.72616\n",
      "[125]\ttrain-auc:0.73386\tvalid-auc:0.72616\n",
      "[126]\ttrain-auc:0.73386\tvalid-auc:0.72616\n",
      "[127]\ttrain-auc:0.73386\tvalid-auc:0.72616\n",
      "[128]\ttrain-auc:0.73386\tvalid-auc:0.72616\n",
      "[129]\ttrain-auc:0.73386\tvalid-auc:0.72616\n",
      "[130]\ttrain-auc:0.73386\tvalid-auc:0.72616\n",
      "[131]\ttrain-auc:0.73386\tvalid-auc:0.72616\n",
      "[132]\ttrain-auc:0.73386\tvalid-auc:0.72616\n",
      "[133]\ttrain-auc:0.73386\tvalid-auc:0.72616\n",
      "[134]\ttrain-auc:0.73386\tvalid-auc:0.72616\n",
      "[135]\ttrain-auc:0.73386\tvalid-auc:0.72616\n",
      "Fold: 3, train-observations = 88074, valid-observations = 22019\n",
      "train-score = 0.7339, valid-score = 0.7262\n",
      "=====================================================================\n",
      "[0]\ttrain-auc:0.60124\tvalid-auc:0.59513\n",
      "[1]\ttrain-auc:0.62884\tvalid-auc:0.61906\n",
      "[2]\ttrain-auc:0.62890\tvalid-auc:0.61914\n",
      "[3]\ttrain-auc:0.63518\tvalid-auc:0.62751\n",
      "[4]\ttrain-auc:0.63575\tvalid-auc:0.62769\n",
      "[5]\ttrain-auc:0.64209\tvalid-auc:0.63438\n",
      "[6]\ttrain-auc:0.68386\tvalid-auc:0.67025\n",
      "[7]\ttrain-auc:0.68662\tvalid-auc:0.67350\n",
      "[8]\ttrain-auc:0.68666\tvalid-auc:0.67346\n",
      "[9]\ttrain-auc:0.68692\tvalid-auc:0.67367\n",
      "[10]\ttrain-auc:0.68750\tvalid-auc:0.67392\n",
      "[11]\ttrain-auc:0.68757\tvalid-auc:0.67384\n",
      "[12]\ttrain-auc:0.69029\tvalid-auc:0.67686\n",
      "[13]\ttrain-auc:0.69160\tvalid-auc:0.67765\n",
      "[14]\ttrain-auc:0.69250\tvalid-auc:0.67929\n",
      "[15]\ttrain-auc:0.69265\tvalid-auc:0.67944\n",
      "[16]\ttrain-auc:0.69415\tvalid-auc:0.68126\n",
      "[17]\ttrain-auc:0.69827\tvalid-auc:0.68628\n",
      "[18]\ttrain-auc:0.69815\tvalid-auc:0.68657\n",
      "[19]\ttrain-auc:0.69860\tvalid-auc:0.68752\n",
      "[20]\ttrain-auc:0.69913\tvalid-auc:0.68823\n",
      "[21]\ttrain-auc:0.69990\tvalid-auc:0.68875\n",
      "[22]\ttrain-auc:0.70234\tvalid-auc:0.69132\n",
      "[23]\ttrain-auc:0.70327\tvalid-auc:0.69208\n",
      "[24]\ttrain-auc:0.70428\tvalid-auc:0.69282\n",
      "[25]\ttrain-auc:0.70468\tvalid-auc:0.69295\n",
      "[26]\ttrain-auc:0.70542\tvalid-auc:0.69402\n",
      "[27]\ttrain-auc:0.70634\tvalid-auc:0.69483\n",
      "[28]\ttrain-auc:0.70688\tvalid-auc:0.69566\n",
      "[29]\ttrain-auc:0.70773\tvalid-auc:0.69650\n",
      "[30]\ttrain-auc:0.70849\tvalid-auc:0.69642\n",
      "[31]\ttrain-auc:0.70996\tvalid-auc:0.69785\n",
      "[32]\ttrain-auc:0.71113\tvalid-auc:0.70032\n",
      "[33]\ttrain-auc:0.71209\tvalid-auc:0.70096\n",
      "[34]\ttrain-auc:0.71307\tvalid-auc:0.70221\n",
      "[35]\ttrain-auc:0.71422\tvalid-auc:0.70296\n",
      "[36]\ttrain-auc:0.71548\tvalid-auc:0.70390\n",
      "[37]\ttrain-auc:0.71657\tvalid-auc:0.70502\n",
      "[38]\ttrain-auc:0.71759\tvalid-auc:0.70623\n",
      "[39]\ttrain-auc:0.71802\tvalid-auc:0.70729\n",
      "[40]\ttrain-auc:0.71884\tvalid-auc:0.70796\n",
      "[41]\ttrain-auc:0.71986\tvalid-auc:0.70898\n",
      "[42]\ttrain-auc:0.72039\tvalid-auc:0.70925\n",
      "[43]\ttrain-auc:0.72164\tvalid-auc:0.71034\n",
      "[44]\ttrain-auc:0.72223\tvalid-auc:0.71096\n",
      "[45]\ttrain-auc:0.72286\tvalid-auc:0.71170\n",
      "[46]\ttrain-auc:0.72334\tvalid-auc:0.71230\n",
      "[47]\ttrain-auc:0.72404\tvalid-auc:0.71260\n",
      "[48]\ttrain-auc:0.72485\tvalid-auc:0.71318\n",
      "[49]\ttrain-auc:0.72534\tvalid-auc:0.71373\n",
      "[50]\ttrain-auc:0.72576\tvalid-auc:0.71405\n",
      "[51]\ttrain-auc:0.72633\tvalid-auc:0.71481\n",
      "[52]\ttrain-auc:0.72654\tvalid-auc:0.71495\n",
      "[53]\ttrain-auc:0.72708\tvalid-auc:0.71521\n",
      "[54]\ttrain-auc:0.72758\tvalid-auc:0.71562\n",
      "[55]\ttrain-auc:0.72808\tvalid-auc:0.71605\n",
      "[56]\ttrain-auc:0.72824\tvalid-auc:0.71651\n",
      "[57]\ttrain-auc:0.72912\tvalid-auc:0.71672\n",
      "[58]\ttrain-auc:0.72938\tvalid-auc:0.71665\n",
      "[59]\ttrain-auc:0.72968\tvalid-auc:0.71683\n",
      "[60]\ttrain-auc:0.73024\tvalid-auc:0.71715\n",
      "[61]\ttrain-auc:0.73060\tvalid-auc:0.71763\n",
      "[62]\ttrain-auc:0.73073\tvalid-auc:0.71782\n",
      "[63]\ttrain-auc:0.73094\tvalid-auc:0.71780\n",
      "[64]\ttrain-auc:0.73143\tvalid-auc:0.71819\n",
      "[65]\ttrain-auc:0.73155\tvalid-auc:0.71815\n",
      "[66]\ttrain-auc:0.73189\tvalid-auc:0.71832\n",
      "[67]\ttrain-auc:0.73203\tvalid-auc:0.71847\n",
      "[68]\ttrain-auc:0.73242\tvalid-auc:0.71877\n",
      "[69]\ttrain-auc:0.73257\tvalid-auc:0.71885\n",
      "[70]\ttrain-auc:0.73283\tvalid-auc:0.71901\n",
      "[71]\ttrain-auc:0.73321\tvalid-auc:0.71928\n",
      "[72]\ttrain-auc:0.73348\tvalid-auc:0.71991\n",
      "[73]\ttrain-auc:0.73364\tvalid-auc:0.71972\n",
      "[74]\ttrain-auc:0.73384\tvalid-auc:0.71964\n",
      "[75]\ttrain-auc:0.73379\tvalid-auc:0.71957\n",
      "[76]\ttrain-auc:0.73382\tvalid-auc:0.71954\n",
      "[77]\ttrain-auc:0.73426\tvalid-auc:0.71993\n",
      "[78]\ttrain-auc:0.73438\tvalid-auc:0.72035\n",
      "[79]\ttrain-auc:0.73469\tvalid-auc:0.72072\n",
      "[80]\ttrain-auc:0.73498\tvalid-auc:0.72099\n",
      "[81]\ttrain-auc:0.73512\tvalid-auc:0.72111\n",
      "[82]\ttrain-auc:0.73521\tvalid-auc:0.72125\n",
      "[83]\ttrain-auc:0.73551\tvalid-auc:0.72145\n",
      "[84]\ttrain-auc:0.73549\tvalid-auc:0.72139\n",
      "[85]\ttrain-auc:0.73609\tvalid-auc:0.72180\n",
      "[86]\ttrain-auc:0.73633\tvalid-auc:0.72200\n",
      "[87]\ttrain-auc:0.73673\tvalid-auc:0.72231\n",
      "[88]\ttrain-auc:0.73669\tvalid-auc:0.72243\n",
      "[89]\ttrain-auc:0.73692\tvalid-auc:0.72259\n",
      "[90]\ttrain-auc:0.73730\tvalid-auc:0.72277\n",
      "[91]\ttrain-auc:0.73739\tvalid-auc:0.72289\n",
      "[92]\ttrain-auc:0.73759\tvalid-auc:0.72305\n",
      "[93]\ttrain-auc:0.73759\tvalid-auc:0.72305\n",
      "[94]\ttrain-auc:0.73759\tvalid-auc:0.72305\n",
      "[95]\ttrain-auc:0.73759\tvalid-auc:0.72305\n",
      "[96]\ttrain-auc:0.73759\tvalid-auc:0.72305\n",
      "[97]\ttrain-auc:0.73759\tvalid-auc:0.72305\n",
      "[98]\ttrain-auc:0.73759\tvalid-auc:0.72305\n",
      "[99]\ttrain-auc:0.73759\tvalid-auc:0.72305\n",
      "[100]\ttrain-auc:0.73759\tvalid-auc:0.72305\n",
      "[101]\ttrain-auc:0.73765\tvalid-auc:0.72306\n",
      "[102]\ttrain-auc:0.73771\tvalid-auc:0.72316\n",
      "[103]\ttrain-auc:0.73796\tvalid-auc:0.72331\n",
      "[104]\ttrain-auc:0.73799\tvalid-auc:0.72325\n",
      "[105]\ttrain-auc:0.73821\tvalid-auc:0.72328\n",
      "[106]\ttrain-auc:0.73821\tvalid-auc:0.72328\n",
      "[107]\ttrain-auc:0.73821\tvalid-auc:0.72328\n",
      "[108]\ttrain-auc:0.73821\tvalid-auc:0.72328\n",
      "[109]\ttrain-auc:0.73821\tvalid-auc:0.72328\n",
      "[110]\ttrain-auc:0.73821\tvalid-auc:0.72328\n",
      "[111]\ttrain-auc:0.73821\tvalid-auc:0.72328\n",
      "[112]\ttrain-auc:0.73821\tvalid-auc:0.72328\n",
      "[113]\ttrain-auc:0.73821\tvalid-auc:0.72328\n",
      "[114]\ttrain-auc:0.73821\tvalid-auc:0.72328\n",
      "[115]\ttrain-auc:0.73821\tvalid-auc:0.72328\n",
      "[116]\ttrain-auc:0.73821\tvalid-auc:0.72328\n",
      "[117]\ttrain-auc:0.73821\tvalid-auc:0.72328\n",
      "[118]\ttrain-auc:0.73821\tvalid-auc:0.72328\n",
      "[119]\ttrain-auc:0.73821\tvalid-auc:0.72328\n",
      "[120]\ttrain-auc:0.73821\tvalid-auc:0.72328\n",
      "[121]\ttrain-auc:0.73821\tvalid-auc:0.72328\n",
      "[122]\ttrain-auc:0.73821\tvalid-auc:0.72328\n",
      "[123]\ttrain-auc:0.73821\tvalid-auc:0.72328\n",
      "[124]\ttrain-auc:0.73821\tvalid-auc:0.72328\n",
      "[125]\ttrain-auc:0.73821\tvalid-auc:0.72328\n",
      "[126]\ttrain-auc:0.73821\tvalid-auc:0.72328\n",
      "[127]\ttrain-auc:0.73821\tvalid-auc:0.72328\n",
      "[128]\ttrain-auc:0.73821\tvalid-auc:0.72328\n",
      "[129]\ttrain-auc:0.73821\tvalid-auc:0.72328\n",
      "[130]\ttrain-auc:0.73821\tvalid-auc:0.72328\n",
      "[131]\ttrain-auc:0.73821\tvalid-auc:0.72328\n",
      "[132]\ttrain-auc:0.73821\tvalid-auc:0.72328\n",
      "[133]\ttrain-auc:0.73821\tvalid-auc:0.72328\n",
      "[134]\ttrain-auc:0.73821\tvalid-auc:0.72328\n",
      "[135]\ttrain-auc:0.73821\tvalid-auc:0.72328\n",
      "[136]\ttrain-auc:0.73821\tvalid-auc:0.72328\n",
      "[137]\ttrain-auc:0.73821\tvalid-auc:0.72328\n",
      "[138]\ttrain-auc:0.73821\tvalid-auc:0.72328\n",
      "[139]\ttrain-auc:0.73821\tvalid-auc:0.72328\n",
      "[140]\ttrain-auc:0.73821\tvalid-auc:0.72328\n",
      "[141]\ttrain-auc:0.73821\tvalid-auc:0.72328\n",
      "[142]\ttrain-auc:0.73821\tvalid-auc:0.72328\n",
      "[143]\ttrain-auc:0.73821\tvalid-auc:0.72328\n",
      "[144]\ttrain-auc:0.73821\tvalid-auc:0.72328\n",
      "[145]\ttrain-auc:0.73821\tvalid-auc:0.72328\n",
      "[146]\ttrain-auc:0.73821\tvalid-auc:0.72328\n",
      "[147]\ttrain-auc:0.73821\tvalid-auc:0.72328\n",
      "[148]\ttrain-auc:0.73821\tvalid-auc:0.72328\n",
      "[149]\ttrain-auc:0.73821\tvalid-auc:0.72328\n",
      "[150]\ttrain-auc:0.73821\tvalid-auc:0.72328\n",
      "[151]\ttrain-auc:0.73821\tvalid-auc:0.72328\n",
      "[152]\ttrain-auc:0.73821\tvalid-auc:0.72328\n",
      "[153]\ttrain-auc:0.73821\tvalid-auc:0.72328\n",
      "Fold: 4, train-observations = 88075, valid-observations = 22018\n",
      "train-score = 0.7382, valid-score = 0.7233\n",
      "=====================================================================\n",
      "[0]\ttrain-auc:0.60292\tvalid-auc:0.61064\n",
      "[1]\ttrain-auc:0.61067\tvalid-auc:0.61678\n",
      "[2]\ttrain-auc:0.63158\tvalid-auc:0.63940\n",
      "[3]\ttrain-auc:0.63175\tvalid-auc:0.63940\n",
      "[4]\ttrain-auc:0.67798\tvalid-auc:0.68776\n"
     ]
    },
    {
     "name": "stdout",
     "output_type": "stream",
     "text": [
      "[5]\ttrain-auc:0.67836\tvalid-auc:0.68844\n",
      "[6]\ttrain-auc:0.67908\tvalid-auc:0.68966\n",
      "[7]\ttrain-auc:0.68134\tvalid-auc:0.69219\n",
      "[8]\ttrain-auc:0.68361\tvalid-auc:0.69374\n",
      "[9]\ttrain-auc:0.68458\tvalid-auc:0.69481\n",
      "[10]\ttrain-auc:0.68503\tvalid-auc:0.69525\n",
      "[11]\ttrain-auc:0.68563\tvalid-auc:0.69550\n",
      "[12]\ttrain-auc:0.68560\tvalid-auc:0.69581\n",
      "[13]\ttrain-auc:0.68581\tvalid-auc:0.69590\n",
      "[14]\ttrain-auc:0.68788\tvalid-auc:0.69822\n",
      "[15]\ttrain-auc:0.68791\tvalid-auc:0.69783\n",
      "[16]\ttrain-auc:0.68801\tvalid-auc:0.69786\n",
      "[17]\ttrain-auc:0.68969\tvalid-auc:0.69873\n",
      "[18]\ttrain-auc:0.69156\tvalid-auc:0.70122\n",
      "[19]\ttrain-auc:0.69247\tvalid-auc:0.70168\n",
      "[20]\ttrain-auc:0.69263\tvalid-auc:0.70164\n",
      "[21]\ttrain-auc:0.69670\tvalid-auc:0.70531\n",
      "[22]\ttrain-auc:0.69736\tvalid-auc:0.70557\n",
      "[23]\ttrain-auc:0.69909\tvalid-auc:0.70634\n",
      "[24]\ttrain-auc:0.70108\tvalid-auc:0.70788\n",
      "[25]\ttrain-auc:0.70213\tvalid-auc:0.70805\n",
      "[26]\ttrain-auc:0.70323\tvalid-auc:0.70816\n",
      "[27]\ttrain-auc:0.70374\tvalid-auc:0.70874\n",
      "[28]\ttrain-auc:0.70556\tvalid-auc:0.70971\n",
      "[29]\ttrain-auc:0.70631\tvalid-auc:0.71065\n",
      "[30]\ttrain-auc:0.70758\tvalid-auc:0.71088\n",
      "[31]\ttrain-auc:0.70997\tvalid-auc:0.71324\n",
      "[32]\ttrain-auc:0.71103\tvalid-auc:0.71377\n",
      "[33]\ttrain-auc:0.71177\tvalid-auc:0.71447\n",
      "[34]\ttrain-auc:0.71294\tvalid-auc:0.71525\n",
      "[35]\ttrain-auc:0.71368\tvalid-auc:0.71568\n",
      "[36]\ttrain-auc:0.71450\tvalid-auc:0.71654\n",
      "[37]\ttrain-auc:0.71538\tvalid-auc:0.71673\n",
      "[38]\ttrain-auc:0.71610\tvalid-auc:0.71753\n",
      "[39]\ttrain-auc:0.71648\tvalid-auc:0.71861\n",
      "[40]\ttrain-auc:0.71731\tvalid-auc:0.71903\n",
      "[41]\ttrain-auc:0.71814\tvalid-auc:0.72068\n",
      "[42]\ttrain-auc:0.71844\tvalid-auc:0.72103\n",
      "[43]\ttrain-auc:0.71921\tvalid-auc:0.72084\n",
      "[44]\ttrain-auc:0.72045\tvalid-auc:0.72112\n",
      "[45]\ttrain-auc:0.72107\tvalid-auc:0.72186\n",
      "[46]\ttrain-auc:0.72166\tvalid-auc:0.72233\n",
      "[47]\ttrain-auc:0.72203\tvalid-auc:0.72240\n",
      "[48]\ttrain-auc:0.72259\tvalid-auc:0.72344\n",
      "[49]\ttrain-auc:0.72326\tvalid-auc:0.72368\n",
      "[50]\ttrain-auc:0.72384\tvalid-auc:0.72416\n",
      "[51]\ttrain-auc:0.72414\tvalid-auc:0.72439\n",
      "[52]\ttrain-auc:0.72481\tvalid-auc:0.72527\n",
      "[53]\ttrain-auc:0.72533\tvalid-auc:0.72578\n",
      "[54]\ttrain-auc:0.72569\tvalid-auc:0.72606\n",
      "[55]\ttrain-auc:0.72595\tvalid-auc:0.72634\n",
      "[56]\ttrain-auc:0.72622\tvalid-auc:0.72675\n",
      "[57]\ttrain-auc:0.72659\tvalid-auc:0.72671\n",
      "[58]\ttrain-auc:0.72703\tvalid-auc:0.72748\n",
      "[59]\ttrain-auc:0.72730\tvalid-auc:0.72767\n",
      "[60]\ttrain-auc:0.72773\tvalid-auc:0.72756\n",
      "[61]\ttrain-auc:0.72803\tvalid-auc:0.72843\n",
      "[62]\ttrain-auc:0.72822\tvalid-auc:0.72874\n",
      "[63]\ttrain-auc:0.72863\tvalid-auc:0.72918\n",
      "[64]\ttrain-auc:0.72884\tvalid-auc:0.72914\n",
      "[65]\ttrain-auc:0.72891\tvalid-auc:0.72931\n",
      "[66]\ttrain-auc:0.72919\tvalid-auc:0.72922\n",
      "[67]\ttrain-auc:0.72941\tvalid-auc:0.72918\n",
      "[68]\ttrain-auc:0.73004\tvalid-auc:0.72933\n",
      "[69]\ttrain-auc:0.73012\tvalid-auc:0.72958\n",
      "[70]\ttrain-auc:0.73019\tvalid-auc:0.72998\n",
      "[71]\ttrain-auc:0.73055\tvalid-auc:0.73017\n",
      "[72]\ttrain-auc:0.73075\tvalid-auc:0.73017\n",
      "[73]\ttrain-auc:0.73094\tvalid-auc:0.73003\n",
      "[74]\ttrain-auc:0.73101\tvalid-auc:0.72994\n",
      "[75]\ttrain-auc:0.73120\tvalid-auc:0.73018\n",
      "[76]\ttrain-auc:0.73134\tvalid-auc:0.73002\n",
      "[77]\ttrain-auc:0.73145\tvalid-auc:0.73028\n",
      "[78]\ttrain-auc:0.73148\tvalid-auc:0.73039\n",
      "[79]\ttrain-auc:0.73148\tvalid-auc:0.73039\n",
      "[80]\ttrain-auc:0.73148\tvalid-auc:0.73039\n",
      "[81]\ttrain-auc:0.73148\tvalid-auc:0.73039\n",
      "[82]\ttrain-auc:0.73148\tvalid-auc:0.73039\n",
      "[83]\ttrain-auc:0.73148\tvalid-auc:0.73039\n",
      "[84]\ttrain-auc:0.73148\tvalid-auc:0.73039\n",
      "[85]\ttrain-auc:0.73148\tvalid-auc:0.73039\n",
      "[86]\ttrain-auc:0.73148\tvalid-auc:0.73039\n",
      "[87]\ttrain-auc:0.73148\tvalid-auc:0.73039\n",
      "[88]\ttrain-auc:0.73148\tvalid-auc:0.73039\n",
      "[89]\ttrain-auc:0.73148\tvalid-auc:0.73039\n",
      "[90]\ttrain-auc:0.73148\tvalid-auc:0.73039\n",
      "[91]\ttrain-auc:0.73148\tvalid-auc:0.73039\n",
      "[92]\ttrain-auc:0.73148\tvalid-auc:0.73039\n",
      "[93]\ttrain-auc:0.73148\tvalid-auc:0.73039\n",
      "[94]\ttrain-auc:0.73148\tvalid-auc:0.73039\n",
      "[95]\ttrain-auc:0.73148\tvalid-auc:0.73039\n",
      "[96]\ttrain-auc:0.73148\tvalid-auc:0.73039\n",
      "[97]\ttrain-auc:0.73148\tvalid-auc:0.73039\n",
      "[98]\ttrain-auc:0.73148\tvalid-auc:0.73039\n",
      "[99]\ttrain-auc:0.73148\tvalid-auc:0.73039\n",
      "[100]\ttrain-auc:0.73148\tvalid-auc:0.73039\n",
      "[101]\ttrain-auc:0.73148\tvalid-auc:0.73039\n",
      "[102]\ttrain-auc:0.73148\tvalid-auc:0.73039\n",
      "[103]\ttrain-auc:0.73148\tvalid-auc:0.73039\n",
      "[104]\ttrain-auc:0.73148\tvalid-auc:0.73039\n",
      "[105]\ttrain-auc:0.73148\tvalid-auc:0.73039\n",
      "[106]\ttrain-auc:0.73148\tvalid-auc:0.73039\n",
      "[107]\ttrain-auc:0.73148\tvalid-auc:0.73039\n",
      "[108]\ttrain-auc:0.73148\tvalid-auc:0.73039\n",
      "[109]\ttrain-auc:0.73148\tvalid-auc:0.73039\n",
      "[110]\ttrain-auc:0.73148\tvalid-auc:0.73039\n",
      "[111]\ttrain-auc:0.73148\tvalid-auc:0.73039\n",
      "[112]\ttrain-auc:0.73148\tvalid-auc:0.73039\n",
      "[113]\ttrain-auc:0.73148\tvalid-auc:0.73039\n",
      "[114]\ttrain-auc:0.73148\tvalid-auc:0.73039\n",
      "[115]\ttrain-auc:0.73148\tvalid-auc:0.73039\n",
      "[116]\ttrain-auc:0.73148\tvalid-auc:0.73039\n",
      "[117]\ttrain-auc:0.73148\tvalid-auc:0.73039\n",
      "[118]\ttrain-auc:0.73148\tvalid-auc:0.73039\n",
      "[119]\ttrain-auc:0.73148\tvalid-auc:0.73039\n",
      "[120]\ttrain-auc:0.73148\tvalid-auc:0.73039\n",
      "[121]\ttrain-auc:0.73148\tvalid-auc:0.73039\n",
      "[122]\ttrain-auc:0.73148\tvalid-auc:0.73039\n",
      "[123]\ttrain-auc:0.73148\tvalid-auc:0.73039\n",
      "[124]\ttrain-auc:0.73148\tvalid-auc:0.73039\n",
      "[125]\ttrain-auc:0.73148\tvalid-auc:0.73039\n",
      "[126]\ttrain-auc:0.73148\tvalid-auc:0.73039\n",
      "[127]\ttrain-auc:0.73148\tvalid-auc:0.73039\n",
      "[128]\ttrain-auc:0.73148\tvalid-auc:0.73039\n",
      "Fold: 5, train-observations = 88075, valid-observations = 22018\n",
      "train-score = 0.7315, valid-score = 0.7304\n",
      "=====================================================================\n",
      "CV-results train: 0.7349 +/- 0.002\n",
      "CV-results valid: 0.7235 +/- 0.005\n",
      "OOF-score = 0.7232\n",
      "Wall time: 2min 37s\n"
     ]
    }
   ],
   "source": [
    "%%time\n",
    "estimators_xgb, oof_score_xgb, fold_train_scores_xgb, fold_valid_scores_xgb, oof_predictions_xgb = make_cross_validation(\n",
    "    train, target, xgb, metric=roc_auc_score, cv_strategy=cv_strategy, params=params, categorical=dum_features_res\n",
    ")"
   ]
  },
  {
   "cell_type": "markdown",
   "metadata": {},
   "source": [
    "- Посчитаем корреляцию на трейне:"
   ]
  },
  {
   "cell_type": "code",
   "execution_count": 23,
   "metadata": {},
   "outputs": [],
   "source": [
    "scores = pd.DataFrame({\n",
    "    \"lgb\": oof_predictions_lgb,\n",
    "    \"xgb\": oof_predictions_xgb,\n",
    "})\n",
    "\n",
    "corr = scores.corr()\n",
    "mask = np.zeros_like(corr, dtype=np.bool)\n",
    "mask[np.triu_indices_from(mask)] = True"
   ]
  },
  {
   "cell_type": "code",
   "execution_count": 24,
   "metadata": {},
   "outputs": [
    {
     "data": {
      "text/plain": [
       "<AxesSubplot:>"
      ]
     },
     "execution_count": 24,
     "metadata": {},
     "output_type": "execute_result"
    },
    {
     "data": {
      "image/png": "[encoded data removed]",
      "text/plain": [
       "<Figure size 720x720 with 2 Axes>"
      ]
     },
     "metadata": {},
     "output_type": "display_data"
    }
   ],
   "source": [
    "fig, axes = plt.subplots(1, 1, figsize=(10, 10))\n",
    "sns.heatmap(corr, mask=mask, annot=True, fmt=\".4g\", square=True, cmap=\"viridis\", ax=axes)"
   ]
  },
  {
   "cell_type": "markdown",
   "metadata": {},
   "source": [
    "- Посчитаем корреляцию на тесте:"
   ]
  },
  {
   "cell_type": "code",
   "execution_count": 25,
   "metadata": {},
   "outputs": [],
   "source": [
    "test_lgb = test.copy()\n",
    "test_lgb[dum_features_res] = test_lgb[dum_features_res].astype('category')\n",
    "y_pred_test = []\n",
    "for est in estimators_lgb:\n",
    "    y_pred_test.append(est.predict(test_lgb))"
   ]
  },
  {
   "cell_type": "code",
   "execution_count": 26,
   "metadata": {},
   "outputs": [
    {
     "data": {
      "text/plain": [
       "(165141,)"
      ]
     },
     "execution_count": 26,
     "metadata": {},
     "output_type": "execute_result"
    }
   ],
   "source": [
    "y_pred_test_lgb2 = np.average(np.array(y_pred_test), axis=0)\n",
    "y_pred_test_lgb2.shape"
   ]
  },
  {
   "cell_type": "code",
   "execution_count": 27,
   "metadata": {},
   "outputs": [],
   "source": [
    "test_xgb = test.copy()\n",
    "for feature in dum_features_res:\n",
    "    encoder = le()\n",
    "    test_xgb[feature] = encoder.fit_transform(test_xgb[feature].astype(\"str\").fillna(\"NA\"))\n",
    "                \n",
    "dtest_xgb = xgb.DMatrix(data=test_xgb)\n",
    "y_pred_test = []\n",
    "for est in estimators_xgb:\n",
    "    y_pred_test.append(est.predict(dtest_xgb))"
   ]
  },
  {
   "cell_type": "code",
   "execution_count": 28,
   "metadata": {},
   "outputs": [
    {
     "data": {
      "text/plain": [
       "(165141,)"
      ]
     },
     "execution_count": 28,
     "metadata": {},
     "output_type": "execute_result"
    }
   ],
   "source": [
    "y_pred_test_xgb2 = np.average(np.array(y_pred_test), axis=0)\n",
    "y_pred_test_xgb2.shape"
   ]
  },
  {
   "cell_type": "code",
   "execution_count": 29,
   "metadata": {},
   "outputs": [],
   "source": [
    "scores_test = pd.DataFrame({\n",
    "    \"lgb\": y_pred_test_lgb2,\n",
    "    \"xgb\": y_pred_test_xgb2,\n",
    "})\n",
    "\n",
    "corr = scores_test.corr()\n",
    "mask = np.zeros_like(corr, dtype=np.bool)\n",
    "mask[np.triu_indices_from(mask)] = True"
   ]
  },
  {
   "cell_type": "code",
   "execution_count": 30,
   "metadata": {},
   "outputs": [
    {
     "data": {
      "text/plain": [
       "<AxesSubplot:>"
      ]
     },
     "execution_count": 30,
     "metadata": {},
     "output_type": "execute_result"
    },
    {
     "data": {
      "image/png": "[encoded data removed]",
      "text/plain": [
       "<Figure size 720x720 with 2 Axes>"
      ]
     },
     "metadata": {},
     "output_type": "display_data"
    }
   ],
   "source": [
    "fig, axes = plt.subplots(1, 1, figsize=(10, 10))\n",
    "sns.heatmap(corr, mask=mask, annot=True, fmt=\".4g\", square=True, cmap=\"viridis\", ax=axes)"
   ]
  },
  {
   "cell_type": "markdown",
   "metadata": {},
   "source": [
    "__Задание 2__ Усреднить прогнозы с помощью арифмитического среднего, геометрического среднего и усреднить ранги, сделать выводы о качестве отдельных моделей и о качестве комбинации."
   ]
  },
  {
   "cell_type": "markdown",
   "metadata": {},
   "source": [
    "- Арифмитическое среднее:"
   ]
  },
  {
   "cell_type": "code",
   "execution_count": 31,
   "metadata": {},
   "outputs": [
    {
     "name": "stdout",
     "output_type": "stream",
     "text": [
      "Score = 0.7257\n"
     ]
    }
   ],
   "source": [
    "scores_mean = scores.mean(axis=1)\n",
    "score = roc_auc_score(target, scores_mean)\n",
    "print(f\"Score = {round(score, 4)}\")"
   ]
  },
  {
   "cell_type": "markdown",
   "metadata": {},
   "source": [
    "- Геометрическое среднее:"
   ]
  },
  {
   "cell_type": "code",
   "execution_count": 32,
   "metadata": {},
   "outputs": [
    {
     "name": "stdout",
     "output_type": "stream",
     "text": [
      "Score = 0.7257\n"
     ]
    }
   ],
   "source": [
    "scores_mean = gmean(scores, axis=1)\n",
    "score = roc_auc_score(target, scores_mean)\n",
    "print(f\"Score = {round(score, 4)}\")"
   ]
  },
  {
   "cell_type": "markdown",
   "metadata": {},
   "source": [
    "- Усредним ранки:"
   ]
  },
  {
   "cell_type": "code",
   "execution_count": 33,
   "metadata": {},
   "outputs": [
    {
     "name": "stdout",
     "output_type": "stream",
     "text": [
      "Score = 0.7255\n"
     ]
    }
   ],
   "source": [
    "# ROC-AUC / GINI\n",
    "scores_mean = scores.rank().mean(axis=1)\n",
    "score = roc_auc_score(target, scores_mean)\n",
    "print(f\"Score = {round(score, 4)}\")"
   ]
  },
  {
   "cell_type": "code",
   "execution_count": 34,
   "metadata": {},
   "outputs": [
    {
     "name": "stdout",
     "output_type": "stream",
     "text": [
      "Score = 0.7255\n"
     ]
    }
   ],
   "source": [
    "scores_mean = gmean(scores.rank(), axis=1)\n",
    "score = roc_auc_score(target, scores_mean)\n",
    "print(f\"Score = {round(score, 4)}\")"
   ]
  },
  {
   "cell_type": "markdown",
   "metadata": {},
   "source": [
    "- Поскольку у меня сравнивается всего 2 модели, то арифмитическое и геометрическое среднее одинаково, и также с ранками.\n",
    "- Метрика по среднему немного хуже, чем результат по LightGBM (OOF-score = 0.7259)"
   ]
  },
  {
   "cell_type": "markdown",
   "metadata": {},
   "source": [
    "__Задание 3__ Обучить CatBoost, получить OOF прогнозы и выполнить задание 1 для трех моделей."
   ]
  },
  {
   "cell_type": "code",
   "execution_count": 35,
   "metadata": {},
   "outputs": [],
   "source": [
    "params = {\n",
    "    \"n_estimators\": 1000,\n",
    "    \"loss_function\": \"Logloss\",\n",
    "    \"eval_metric\": \"AUC\",\n",
    "    \"task_type\": \"CPU\",\n",
    "    \"max_bin\": 20,\n",
    "    \"verbose\": 40,\n",
    "    \"max_depth\": 6,\n",
    "    \"l2_leaf_reg\": 100,\n",
    "    \"early_stopping_rounds\": 50,\n",
    "    \"thread_count\": 6,\n",
    "    \"random_seed\": 42\n",
    "}"
   ]
  },
  {
   "cell_type": "code",
   "execution_count": 36,
   "metadata": {},
   "outputs": [
    {
     "name": "stdout",
     "output_type": "stream",
     "text": [
      "0:\ttest: 0.5868949\tbest: 0.5868949 (0)\ttotal: 209ms\tremaining: 3m 28s\n",
      "40:\ttest: 0.7012073\tbest: 0.7014921 (39)\ttotal: 4.46s\tremaining: 1m 44s\n",
      "80:\ttest: 0.7078920\tbest: 0.7078920 (79)\ttotal: 8.39s\tremaining: 1m 35s\n",
      "120:\ttest: 0.7129155\tbest: 0.7129155 (120)\ttotal: 12.5s\tremaining: 1m 31s\n",
      "160:\ttest: 0.7166007\tbest: 0.7166007 (160)\ttotal: 16.6s\tremaining: 1m 26s\n",
      "200:\ttest: 0.7188044\tbest: 0.7188596 (193)\ttotal: 20.5s\tremaining: 1m 21s\n",
      "240:\ttest: 0.7205341\tbest: 0.7206402 (239)\ttotal: 24.5s\tremaining: 1m 17s\n",
      "280:\ttest: 0.7209104\tbest: 0.7209380 (276)\ttotal: 28.2s\tremaining: 1m 12s\n",
      "320:\ttest: 0.7217523\tbest: 0.7217523 (320)\ttotal: 32.2s\tremaining: 1m 8s\n",
      "360:\ttest: 0.7223142\tbest: 0.7226586 (346)\ttotal: 36.1s\tremaining: 1m 3s\n",
      "400:\ttest: 0.7226656\tbest: 0.7228630 (390)\ttotal: 40.1s\tremaining: 60s\n",
      "440:\ttest: 0.7233432\tbest: 0.7233432 (440)\ttotal: 43.5s\tremaining: 55.2s\n",
      "480:\ttest: 0.7234314\tbest: 0.7236314 (473)\ttotal: 47.2s\tremaining: 50.9s\n",
      "520:\ttest: 0.7236923\tbest: 0.7239173 (505)\ttotal: 50.6s\tremaining: 46.6s\n",
      "Stopped by overfitting detector  (50 iterations wait)\n",
      "\n",
      "bestTest = 0.723917251\n",
      "bestIteration = 505\n",
      "\n",
      "Shrink model to first 506 iterations.\n",
      "Fold: 1, train-observations = 88074, valid-observations = 22019\n",
      "train-score = 0.7453, valid-score = 0.7239\n",
      "=====================================================================\n",
      "0:\ttest: 0.5915967\tbest: 0.5915967 (0)\ttotal: 92.9ms\tremaining: 1m 32s\n",
      "40:\ttest: 0.6987738\tbest: 0.6990207 (39)\ttotal: 4.01s\tremaining: 1m 33s\n",
      "80:\ttest: 0.7060577\tbest: 0.7060577 (80)\ttotal: 8.02s\tremaining: 1m 31s\n",
      "120:\ttest: 0.7108005\tbest: 0.7108005 (120)\ttotal: 11.8s\tremaining: 1m 25s\n",
      "160:\ttest: 0.7138964\tbest: 0.7139997 (159)\ttotal: 16.2s\tremaining: 1m 24s\n",
      "200:\ttest: 0.7157494\tbest: 0.7157494 (200)\ttotal: 20.2s\tremaining: 1m 20s\n",
      "240:\ttest: 0.7168765\tbest: 0.7169481 (238)\ttotal: 24s\tremaining: 1m 15s\n",
      "280:\ttest: 0.7176342\tbest: 0.7179258 (267)\ttotal: 27.8s\tremaining: 1m 11s\n",
      "320:\ttest: 0.7186602\tbest: 0.7189292 (315)\ttotal: 31.6s\tremaining: 1m 6s\n",
      "360:\ttest: 0.7190923\tbest: 0.7193337 (356)\ttotal: 35.7s\tremaining: 1m 3s\n",
      "400:\ttest: 0.7193515\tbest: 0.7196760 (370)\ttotal: 39.5s\tremaining: 59s\n",
      "440:\ttest: 0.7203939\tbest: 0.7204109 (438)\ttotal: 43.4s\tremaining: 55s\n",
      "480:\ttest: 0.7210653\tbest: 0.7211108 (476)\ttotal: 46.9s\tremaining: 50.6s\n",
      "520:\ttest: 0.7208356\tbest: 0.7211246 (503)\ttotal: 50.4s\tremaining: 46.3s\n",
      "Stopped by overfitting detector  (50 iterations wait)\n",
      "\n",
      "bestTest = 0.7211245837\n",
      "bestIteration = 503\n",
      "\n",
      "Shrink model to first 504 iterations.\n",
      "Fold: 2, train-observations = 88074, valid-observations = 22019\n",
      "train-score = 0.7484, valid-score = 0.7211\n",
      "=====================================================================\n",
      "0:\ttest: 0.5873314\tbest: 0.5873314 (0)\ttotal: 117ms\tremaining: 1m 57s\n",
      "40:\ttest: 0.7057687\tbest: 0.7061834 (39)\ttotal: 4.06s\tremaining: 1m 34s\n",
      "80:\ttest: 0.7139763\tbest: 0.7141457 (78)\ttotal: 8.02s\tremaining: 1m 31s\n",
      "120:\ttest: 0.7192819\tbest: 0.7194207 (118)\ttotal: 11.9s\tremaining: 1m 26s\n",
      "160:\ttest: 0.7219727\tbest: 0.7221102 (157)\ttotal: 15.8s\tremaining: 1m 22s\n",
      "200:\ttest: 0.7240276\tbest: 0.7240276 (200)\ttotal: 19.7s\tremaining: 1m 18s\n",
      "240:\ttest: 0.7248168\tbest: 0.7248168 (240)\ttotal: 23.7s\tremaining: 1m 14s\n",
      "280:\ttest: 0.7253330\tbest: 0.7253330 (280)\ttotal: 27.5s\tremaining: 1m 10s\n",
      "320:\ttest: 0.7259924\tbest: 0.7262874 (316)\ttotal: 31.4s\tremaining: 1m 6s\n",
      "360:\ttest: 0.7268865\tbest: 0.7270131 (355)\ttotal: 35.3s\tremaining: 1m 2s\n",
      "400:\ttest: 0.7268829\tbest: 0.7270131 (355)\ttotal: 38.9s\tremaining: 58.1s\n",
      "Stopped by overfitting detector  (50 iterations wait)\n",
      "\n",
      "bestTest = 0.7270131202\n",
      "bestIteration = 355\n",
      "\n",
      "Shrink model to first 356 iterations.\n",
      "Fold: 3, train-observations = 88074, valid-observations = 22019\n",
      "train-score = 0.7409, valid-score = 0.727\n",
      "=====================================================================\n",
      "0:\ttest: 0.6522001\tbest: 0.6522001 (0)\ttotal: 107ms\tremaining: 1m 46s\n",
      "40:\ttest: 0.6990774\tbest: 0.6993917 (34)\ttotal: 4.08s\tremaining: 1m 35s\n",
      "80:\ttest: 0.7063169\tbest: 0.7064158 (79)\ttotal: 8.03s\tremaining: 1m 31s\n",
      "120:\ttest: 0.7128348\tbest: 0.7129101 (119)\ttotal: 11.9s\tremaining: 1m 26s\n",
      "160:\ttest: 0.7174859\tbest: 0.7174859 (160)\ttotal: 15.8s\tremaining: 1m 22s\n",
      "200:\ttest: 0.7192506\tbest: 0.7192506 (200)\ttotal: 19.6s\tremaining: 1m 18s\n",
      "240:\ttest: 0.7208627\tbest: 0.7209799 (238)\ttotal: 23.5s\tremaining: 1m 13s\n",
      "280:\ttest: 0.7215051\tbest: 0.7218185 (271)\ttotal: 27.4s\tremaining: 1m 9s\n",
      "320:\ttest: 0.7225125\tbest: 0.7225921 (315)\ttotal: 31.2s\tremaining: 1m 5s\n",
      "360:\ttest: 0.7230949\tbest: 0.7231879 (358)\ttotal: 35s\tremaining: 1m 1s\n",
      "400:\ttest: 0.7237346\tbest: 0.7237346 (400)\ttotal: 38.8s\tremaining: 57.9s\n",
      "440:\ttest: 0.7242699\tbest: 0.7242987 (436)\ttotal: 42.5s\tremaining: 53.9s\n",
      "480:\ttest: 0.7244580\tbest: 0.7245682 (478)\ttotal: 46s\tremaining: 49.6s\n",
      "520:\ttest: 0.7244907\tbest: 0.7245682 (478)\ttotal: 49.2s\tremaining: 45.2s\n",
      "Stopped by overfitting detector  (50 iterations wait)\n",
      "\n",
      "bestTest = 0.7245681948\n",
      "bestIteration = 478\n",
      "\n",
      "Shrink model to first 479 iterations.\n",
      "Fold: 4, train-observations = 88075, valid-observations = 22018\n",
      "train-score = 0.7455, valid-score = 0.7246\n",
      "=====================================================================\n",
      "0:\ttest: 0.6578929\tbest: 0.6578929 (0)\ttotal: 97.7ms\tremaining: 1m 37s\n",
      "40:\ttest: 0.7132777\tbest: 0.7132777 (40)\ttotal: 3.94s\tremaining: 1m 32s\n",
      "80:\ttest: 0.7195130\tbest: 0.7195299 (79)\ttotal: 7.78s\tremaining: 1m 28s\n",
      "120:\ttest: 0.7225503\tbest: 0.7226436 (118)\ttotal: 11.8s\tremaining: 1m 25s\n",
      "160:\ttest: 0.7255795\tbest: 0.7255795 (160)\ttotal: 15.7s\tremaining: 1m 22s\n",
      "200:\ttest: 0.7269378\tbest: 0.7271645 (197)\ttotal: 19.8s\tremaining: 1m 18s\n",
      "240:\ttest: 0.7282790\tbest: 0.7282790 (240)\ttotal: 23.7s\tremaining: 1m 14s\n",
      "280:\ttest: 0.7290242\tbest: 0.7290968 (278)\ttotal: 27.8s\tremaining: 1m 11s\n",
      "320:\ttest: 0.7295424\tbest: 0.7296304 (317)\ttotal: 31.8s\tremaining: 1m 7s\n",
      "360:\ttest: 0.7292555\tbest: 0.7297599 (324)\ttotal: 35.9s\tremaining: 1m 3s\n",
      "400:\ttest: 0.7298376\tbest: 0.7302800 (381)\ttotal: 39.9s\tremaining: 59.6s\n",
      "Stopped by overfitting detector  (50 iterations wait)\n",
      "\n",
      "bestTest = 0.7302800394\n",
      "bestIteration = 381\n",
      "\n",
      "Shrink model to first 382 iterations.\n",
      "Fold: 5, train-observations = 88075, valid-observations = 22018\n",
      "train-score = 0.7422, valid-score = 0.7303\n",
      "=====================================================================\n",
      "CV-results train: 0.7445 +/- 0.003\n",
      "CV-results valid: 0.7254 +/- 0.003\n",
      "OOF-score = 0.7247\n",
      "Wall time: 4min 4s\n"
     ]
    }
   ],
   "source": [
    "%%time\n",
    "estimators_catb, oof_score_catb, fold_train_scores_catb, fold_valid_scores_catb, oof_predictions_catb = make_cross_validation(\n",
    "    train, target, catb, metric=roc_auc_score, cv_strategy=cv_strategy, params=params, categorical=dum_features_res\n",
    ")"
   ]
  },
  {
   "cell_type": "code",
   "execution_count": 37,
   "metadata": {},
   "outputs": [],
   "source": [
    "scores['catb'] = oof_predictions_catb\n",
    "\n",
    "corr = scores.corr()\n",
    "mask = np.zeros_like(corr, dtype=np.bool)\n",
    "mask[np.triu_indices_from(mask)] = True"
   ]
  },
  {
   "cell_type": "code",
   "execution_count": 38,
   "metadata": {},
   "outputs": [
    {
     "data": {
      "text/plain": [
       "<AxesSubplot:>"
      ]
     },
     "execution_count": 38,
     "metadata": {},
     "output_type": "execute_result"
    },
    {
     "data": {
      "image/png": "[encoded data removed]",
      "text/plain": [
       "<Figure size 720x720 with 2 Axes>"
      ]
     },
     "metadata": {},
     "output_type": "display_data"
    }
   ],
   "source": [
    "fig, axes = plt.subplots(1, 1, figsize=(10, 10))\n",
    "sns.heatmap(corr, mask=mask, annot=True, fmt=\".4g\", square=True, cmap=\"viridis\", ax=axes)"
   ]
  },
  {
   "cell_type": "markdown",
   "metadata": {},
   "source": [
    "- Посчитаем корреляцию на тесте:"
   ]
  },
  {
   "cell_type": "code",
   "execution_count": 39,
   "metadata": {},
   "outputs": [],
   "source": [
    "test_catb = test.copy()\n",
    "test_catb[dum_features_res] = test_catb[dum_features_res].astype(str)\n",
    "y_pred_test = []\n",
    "for est in estimators_catb:\n",
    "    y_pred_test.append(est.predict(test_catb, prediction_type='Probability')[:,1])"
   ]
  },
  {
   "cell_type": "code",
   "execution_count": 40,
   "metadata": {},
   "outputs": [
    {
     "data": {
      "text/plain": [
       "(165141,)"
      ]
     },
     "execution_count": 40,
     "metadata": {},
     "output_type": "execute_result"
    }
   ],
   "source": [
    "y_pred_test_catb2 = np.average(np.array(y_pred_test), axis=0)\n",
    "y_pred_test_catb2.shape"
   ]
  },
  {
   "cell_type": "code",
   "execution_count": 41,
   "metadata": {},
   "outputs": [],
   "source": [
    "scores_test['catb'] = y_pred_test_catb2\n",
    "\n",
    "corr = scores_test.corr()\n",
    "mask = np.zeros_like(corr, dtype=np.bool)\n",
    "mask[np.triu_indices_from(mask)] = True"
   ]
  },
  {
   "cell_type": "code",
   "execution_count": 42,
   "metadata": {},
   "outputs": [
    {
     "data": {
      "text/plain": [
       "<AxesSubplot:>"
      ]
     },
     "execution_count": 42,
     "metadata": {},
     "output_type": "execute_result"
    },
    {
     "data": {
      "image/png": "[encoded data removed]",
      "text/plain": [
       "<Figure size 720x720 with 2 Axes>"
      ]
     },
     "metadata": {},
     "output_type": "display_data"
    }
   ],
   "source": [
    "fig, axes = plt.subplots(1, 1, figsize=(10, 10))\n",
    "sns.heatmap(corr, mask=mask, annot=True, fmt=\".4g\", square=True, cmap=\"viridis\", ax=axes)"
   ]
  },
  {
   "cell_type": "markdown",
   "metadata": {},
   "source": [
    "__Задание 4__ Выполнить задание 2 для трех моделей."
   ]
  },
  {
   "cell_type": "markdown",
   "metadata": {},
   "source": [
    "- Арифмитическое среднее:"
   ]
  },
  {
   "cell_type": "code",
   "execution_count": 43,
   "metadata": {},
   "outputs": [
    {
     "name": "stdout",
     "output_type": "stream",
     "text": [
      "Score = 0.7265\n"
     ]
    }
   ],
   "source": [
    "scores_mean = scores.mean(axis=1)\n",
    "score = roc_auc_score(target, scores_mean)\n",
    "print(f\"Score = {round(score, 4)}\")"
   ]
  },
  {
   "cell_type": "markdown",
   "metadata": {},
   "source": [
    "- Геометрическое среднее:"
   ]
  },
  {
   "cell_type": "code",
   "execution_count": 44,
   "metadata": {},
   "outputs": [
    {
     "name": "stdout",
     "output_type": "stream",
     "text": [
      "Score = 0.7265\n"
     ]
    }
   ],
   "source": [
    "scores_gmean = gmean(scores, axis=1)\n",
    "score = roc_auc_score(target, scores_gmean)\n",
    "print(f\"Score = {round(score, 4)}\")"
   ]
  },
  {
   "cell_type": "markdown",
   "metadata": {},
   "source": [
    "- Усредним ранки:"
   ]
  },
  {
   "cell_type": "code",
   "execution_count": 45,
   "metadata": {},
   "outputs": [
    {
     "name": "stdout",
     "output_type": "stream",
     "text": [
      "Score = 0.7261\n"
     ]
    }
   ],
   "source": [
    "# ROC-AUC / GINI\n",
    "rank_scores_mean = scores.rank().mean(axis=1)\n",
    "score = roc_auc_score(target, rank_scores_mean)\n",
    "print(f\"Score = {round(score, 4)}\")"
   ]
  },
  {
   "cell_type": "code",
   "execution_count": 46,
   "metadata": {},
   "outputs": [
    {
     "name": "stdout",
     "output_type": "stream",
     "text": [
      "Score = 0.7262\n"
     ]
    }
   ],
   "source": [
    "rank_scores_gmean = gmean(scores.rank(), axis=1)\n",
    "score = roc_auc_score(target, rank_scores_gmean)\n",
    "print(f\"Score = {round(score, 4)}\")"
   ]
  },
  {
   "cell_type": "markdown",
   "metadata": {},
   "source": [
    "- На трех моделях качество стало выше, чем на двух или отдельно на каждой  \n",
    "- Геометрические среднее и ранки выше, чем арифметические"
   ]
  },
  {
   "cell_type": "markdown",
   "metadata": {},
   "source": [
    "__Задание 5__ (опция) Объединить OOF-прогнозы для трех моделей и обучить алгоритм Логистической регрессии (и любой другой, на ваше усмотрение). Сделать выводы о достигаемом качестве, сравнить достигаемое качество с качеством отдельных моделей и моделей, полученных в п.2 и п.4."
   ]
  },
  {
   "cell_type": "code",
   "execution_count": 47,
   "metadata": {},
   "outputs": [],
   "source": [
    "y = target.values"
   ]
  },
  {
   "cell_type": "code",
   "execution_count": 56,
   "metadata": {},
   "outputs": [
    {
     "name": "stdout",
     "output_type": "stream",
     "text": [
      "Score = 0.7269\n"
     ]
    }
   ],
   "source": [
    "lr = LogisticRegression(solver=\"liblinear\", n_jobs=-1)\n",
    "\n",
    "lr.fit(scores, y)\n",
    "\n",
    "y_train_pred_lr = lr.predict_proba(scores)\n",
    "\n",
    "score = roc_auc_score(y, y_train_pred_lr[:,1])\n",
    "print(f\"Score = {round(score, 4)}\")"
   ]
  },
  {
   "cell_type": "markdown",
   "metadata": {},
   "source": [
    "- Результат конечно немного лучше стал, но не так, как хотелось бы )"
   ]
  },
  {
   "cell_type": "markdown",
   "metadata": {},
   "source": [
    "__Задание 6__ (опция) Обучить алгоритмRandomForest (желательно подтюнить параметры) и добавить к построенным ранее моделям. Выполнить задание 5."
   ]
  },
  {
   "cell_type": "code",
   "execution_count": 266,
   "metadata": {},
   "outputs": [],
   "source": [
    "parameters = {\n",
    "    'n_estimators': [200, 300, 500],\n",
    "    'max_features': np.arange(10, 18),\n",
    "    'max_depth': np.arange(10, 18),\n",
    "}\n",
    "\n",
    "clf = GridSearchCV(\n",
    "    estimator=RandomForestClassifier(criterion='entropy'),\n",
    "    param_grid=parameters,\n",
    "    scoring='roc_auc',\n",
    "    cv=5,\n",
    "    n_jobs=-1\n",
    ")"
   ]
  },
  {
   "cell_type": "code",
   "execution_count": 275,
   "metadata": {},
   "outputs": [],
   "source": [
    "train2 = train.copy()\n",
    "for feature in dum_features_res:\n",
    "    encoder = le()\n",
    "    train2[feature] = encoder.fit_transform(train2[feature].astype(\"str\").fillna(\"NA\"))\n",
    "train2 = train2.fillna(-99999)"
   ]
  },
  {
   "cell_type": "code",
   "execution_count": null,
   "metadata": {},
   "outputs": [],
   "source": [
    "%%time\n",
    "clf.fit(train2, target)"
   ]
  },
  {
   "cell_type": "code",
   "execution_count": null,
   "metadata": {},
   "outputs": [],
   "source": [
    "clf.best_params_"
   ]
  },
  {
   "cell_type": "code",
   "execution_count": 73,
   "metadata": {},
   "outputs": [],
   "source": [
    "rfc = RandomForestClassifier(max_depth=14, \n",
    "                             max_features=14,\n",
    "                             n_estimators=500, \n",
    "                             criterion='entropy',\n",
    "                             verbose=1\n",
    "                            )\n",
    "rfc.__name__ = 'rfc'"
   ]
  },
  {
   "cell_type": "code",
   "execution_count": 76,
   "metadata": {},
   "outputs": [
    {
     "name": "stderr",
     "output_type": "stream",
     "text": [
      "[Parallel(n_jobs=1)]: Using backend SequentialBackend with 1 concurrent workers.\n",
      "[Parallel(n_jobs=1)]: Done 500 out of 500 | elapsed: 10.5min finished\n",
      "[Parallel(n_jobs=1)]: Using backend SequentialBackend with 1 concurrent workers.\n",
      "[Parallel(n_jobs=1)]: Done 500 out of 500 | elapsed:   14.1s finished\n",
      "[Parallel(n_jobs=1)]: Using backend SequentialBackend with 1 concurrent workers.\n",
      "[Parallel(n_jobs=1)]: Done 500 out of 500 | elapsed:    3.6s finished\n"
     ]
    },
    {
     "name": "stdout",
     "output_type": "stream",
     "text": [
      "Fold: 1, train-observations = 88074, valid-observations = 22019\n",
      "train-score = 0.9392, valid-score = 0.7093\n",
      "=====================================================================\n"
     ]
    },
    {
     "name": "stderr",
     "output_type": "stream",
     "text": [
      "[Parallel(n_jobs=1)]: Using backend SequentialBackend with 1 concurrent workers.\n",
      "[Parallel(n_jobs=1)]: Done 500 out of 500 | elapsed: 10.3min finished\n",
      "[Parallel(n_jobs=1)]: Using backend SequentialBackend with 1 concurrent workers.\n",
      "[Parallel(n_jobs=1)]: Done 500 out of 500 | elapsed:   15.1s finished\n",
      "[Parallel(n_jobs=1)]: Using backend SequentialBackend with 1 concurrent workers.\n",
      "[Parallel(n_jobs=1)]: Done 500 out of 500 | elapsed:    3.7s finished\n"
     ]
    },
    {
     "name": "stdout",
     "output_type": "stream",
     "text": [
      "Fold: 2, train-observations = 88074, valid-observations = 22019\n",
      "train-score = 0.9396, valid-score = 0.7046\n",
      "=====================================================================\n"
     ]
    },
    {
     "name": "stderr",
     "output_type": "stream",
     "text": [
      "[Parallel(n_jobs=1)]: Using backend SequentialBackend with 1 concurrent workers.\n",
      "[Parallel(n_jobs=1)]: Done 500 out of 500 | elapsed: 10.3min finished\n",
      "[Parallel(n_jobs=1)]: Using backend SequentialBackend with 1 concurrent workers.\n",
      "[Parallel(n_jobs=1)]: Done 500 out of 500 | elapsed:   14.4s finished\n",
      "[Parallel(n_jobs=1)]: Using backend SequentialBackend with 1 concurrent workers.\n",
      "[Parallel(n_jobs=1)]: Done 500 out of 500 | elapsed:    3.8s finished\n"
     ]
    },
    {
     "name": "stdout",
     "output_type": "stream",
     "text": [
      "Fold: 3, train-observations = 88074, valid-observations = 22019\n",
      "train-score = 0.939, valid-score = 0.7143\n",
      "=====================================================================\n"
     ]
    },
    {
     "name": "stderr",
     "output_type": "stream",
     "text": [
      "[Parallel(n_jobs=1)]: Using backend SequentialBackend with 1 concurrent workers.\n",
      "[Parallel(n_jobs=1)]: Done 500 out of 500 | elapsed: 10.4min finished\n",
      "[Parallel(n_jobs=1)]: Using backend SequentialBackend with 1 concurrent workers.\n",
      "[Parallel(n_jobs=1)]: Done 500 out of 500 | elapsed:   14.5s finished\n",
      "[Parallel(n_jobs=1)]: Using backend SequentialBackend with 1 concurrent workers.\n",
      "[Parallel(n_jobs=1)]: Done 500 out of 500 | elapsed:    3.8s finished\n"
     ]
    },
    {
     "name": "stdout",
     "output_type": "stream",
     "text": [
      "Fold: 4, train-observations = 88075, valid-observations = 22018\n",
      "train-score = 0.9403, valid-score = 0.7086\n",
      "=====================================================================\n"
     ]
    },
    {
     "name": "stderr",
     "output_type": "stream",
     "text": [
      "[Parallel(n_jobs=1)]: Using backend SequentialBackend with 1 concurrent workers.\n",
      "[Parallel(n_jobs=1)]: Done 500 out of 500 | elapsed: 10.5min finished\n",
      "[Parallel(n_jobs=1)]: Using backend SequentialBackend with 1 concurrent workers.\n",
      "[Parallel(n_jobs=1)]: Done 500 out of 500 | elapsed:   14.8s finished\n",
      "[Parallel(n_jobs=1)]: Using backend SequentialBackend with 1 concurrent workers.\n"
     ]
    },
    {
     "name": "stdout",
     "output_type": "stream",
     "text": [
      "Fold: 5, train-observations = 88075, valid-observations = 22018\n",
      "train-score = 0.94, valid-score = 0.7158\n",
      "=====================================================================\n",
      "CV-results train: 0.9396 +/- 0.0\n",
      "CV-results valid: 0.7105 +/- 0.004\n",
      "OOF-score = 0.7101\n",
      "Wall time: 53min 41s\n"
     ]
    },
    {
     "name": "stderr",
     "output_type": "stream",
     "text": [
      "[Parallel(n_jobs=1)]: Done 500 out of 500 | elapsed:    3.8s finished\n"
     ]
    }
   ],
   "source": [
    "%%time\n",
    "estimators_rfc, oof_score_rfc, fold_train_scores_rfc, fold_valid_scores_rfc, oof_predictions_rfc = make_cross_validation(\n",
    "    train, target, rfc, metric=roc_auc_score, cv_strategy=cv_strategy, categorical=dum_features_res\n",
    ")"
   ]
  },
  {
   "cell_type": "code",
   "execution_count": 77,
   "metadata": {},
   "outputs": [],
   "source": [
    "scores['rfc'] = oof_predictions_rfc\n",
    "\n",
    "corr = scores.corr()\n",
    "mask = np.zeros_like(corr, dtype=np.bool)\n",
    "mask[np.triu_indices_from(mask)] = True"
   ]
  },
  {
   "cell_type": "code",
   "execution_count": 78,
   "metadata": {
    "scrolled": false
   },
   "outputs": [
    {
     "data": {
      "text/plain": [
       "<AxesSubplot:>"
      ]
     },
     "execution_count": 78,
     "metadata": {},
     "output_type": "execute_result"
    },
    {
     "data": {
      "image/png": "[encoded data removed]",
      "text/plain": [
       "<Figure size 720x720 with 2 Axes>"
      ]
     },
     "metadata": {},
     "output_type": "display_data"
    }
   ],
   "source": [
    "fig, axes = plt.subplots(1, 1, figsize=(10, 10))\n",
    "sns.heatmap(corr, mask=mask, annot=True, fmt=\".4g\", square=True, cmap=\"viridis\", ax=axes)"
   ]
  },
  {
   "cell_type": "markdown",
   "metadata": {},
   "source": [
    "- Посчитаем корреляцию на тесте:"
   ]
  },
  {
   "cell_type": "code",
   "execution_count": 111,
   "metadata": {},
   "outputs": [],
   "source": [
    "test_rfc = test.copy()\n",
    "for feature in dum_features_res:\n",
    "    encoder = le()\n",
    "    test_rfc[feature] = encoder.fit_transform(test_rfc[feature].astype(\"str\").fillna(\"NA\"))\n",
    "test_rfc = test_rfc.fillna(-9999)"
   ]
  },
  {
   "cell_type": "code",
   "execution_count": 112,
   "metadata": {
    "collapsed": true
   },
   "outputs": [
    {
     "data": {
      "text/plain": [
       "name_contract_type                   0\n",
       "gender                               0\n",
       "childrens                            0\n",
       "total_salary                         0\n",
       "amount_credit                        0\n",
       "amount_annuity                       0\n",
       "education_level                      0\n",
       "family_status                        0\n",
       "region_population                    0\n",
       "age                                  0\n",
       "days_on_last_job                     0\n",
       "own_car_age                          0\n",
       "flag_phone                           0\n",
       "flag_email                           0\n",
       "family_size                          0\n",
       "external_scoring_rating_1            0\n",
       "external_scoring_rating_2            0\n",
       "external_scoring_rating_3            0\n",
       "amt_req_credit_bureau_hour           0\n",
       "amt_req_credit_bureau_day            0\n",
       "amt_req_credit_bureau_week           0\n",
       "amt_req_credit_bureau_mon            0\n",
       "amt_req_credit_bureau_qrt            0\n",
       "amt_req_credit_bureau_year           0\n",
       "bki_requests_count                   0\n",
       "bki_kurtosis                         0\n",
       "external_scoring_prod                0\n",
       "external_scoring_weighted            0\n",
       "external_scoring_rating_min          0\n",
       "external_scoring_rating_max          0\n",
       "external_scoring_rating_mean         0\n",
       "external_scoring_rating_nanmedian    0\n",
       "external_scoring_rating_var          0\n",
       "ratio_credit_to_annuity              0\n",
       "ratio_annuity_to_salary              0\n",
       "ratio_credit_to_salary               0\n",
       "ratio_annuity_to_age                 0\n",
       "ratio_credit_to_age                  0\n",
       "ratio_salary_to_age                  0\n",
       "ratio_salary_to_experience           1\n",
       "ratio_credit_to_experience           1\n",
       "ratio_annuity_to_experience          1\n",
       "ratio_age_to_experience              1\n",
       "ratio_salary_to_region_population    0\n",
       "ratio_car_to_experience              0\n",
       "ratio_car_to_age                     0\n",
       "expected_total_loss_1                0\n",
       "expected_total_loss_2                0\n",
       "expected_total_loss_3                0\n",
       "expected_monthly_loss_1              0\n",
       "expected_monthly_loss_2              0\n",
       "expected_monthly_loss_3              0\n",
       "dtype: int64"
      ]
     },
     "execution_count": 112,
     "metadata": {},
     "output_type": "execute_result"
    }
   ],
   "source": [
    "np.isinf(test_rfc).sum()"
   ]
  },
  {
   "cell_type": "code",
   "execution_count": 113,
   "metadata": {},
   "outputs": [],
   "source": [
    "test_rfc.loc[test_rfc['ratio_salary_to_experience']==np.inf, 'ratio_salary_to_experience'] = 99999999\n",
    "test_rfc.loc[test_rfc['ratio_credit_to_experience']==np.inf, 'ratio_credit_to_experience'] = 99999999\n",
    "test_rfc.loc[test_rfc['ratio_annuity_to_experience']==np.inf, 'ratio_annuity_to_experience'] = 99999999\n",
    "test_rfc.loc[test_rfc['ratio_age_to_experience']==np.inf, 'ratio_age_to_experience'] = 99999999"
   ]
  },
  {
   "cell_type": "code",
   "execution_count": 115,
   "metadata": {},
   "outputs": [
    {
     "name": "stderr",
     "output_type": "stream",
     "text": [
      "[Parallel(n_jobs=1)]: Using backend SequentialBackend with 1 concurrent workers.\n",
      "[Parallel(n_jobs=1)]: Done 500 out of 500 | elapsed:   28.0s finished\n",
      "[Parallel(n_jobs=1)]: Using backend SequentialBackend with 1 concurrent workers.\n",
      "[Parallel(n_jobs=1)]: Done 500 out of 500 | elapsed:   27.3s finished\n",
      "[Parallel(n_jobs=1)]: Using backend SequentialBackend with 1 concurrent workers.\n",
      "[Parallel(n_jobs=1)]: Done 500 out of 500 | elapsed:   28.0s finished\n",
      "[Parallel(n_jobs=1)]: Using backend SequentialBackend with 1 concurrent workers.\n",
      "[Parallel(n_jobs=1)]: Done 500 out of 500 | elapsed:   28.3s finished\n",
      "[Parallel(n_jobs=1)]: Using backend SequentialBackend with 1 concurrent workers.\n",
      "[Parallel(n_jobs=1)]: Done 500 out of 500 | elapsed:   28.1s finished\n"
     ]
    }
   ],
   "source": [
    "y_pred_test = []\n",
    "for est in estimators_rfc:\n",
    "    y_pred_test.append(est.predict_proba(test_rfc)[:,1])"
   ]
  },
  {
   "cell_type": "code",
   "execution_count": 116,
   "metadata": {},
   "outputs": [
    {
     "data": {
      "text/plain": [
       "(165141,)"
      ]
     },
     "execution_count": 116,
     "metadata": {},
     "output_type": "execute_result"
    }
   ],
   "source": [
    "y_pred_test_rfc2 = np.average(np.array(y_pred_test), axis=0)\n",
    "y_pred_test_rfc2.shape"
   ]
  },
  {
   "cell_type": "code",
   "execution_count": 117,
   "metadata": {},
   "outputs": [],
   "source": [
    "scores_test['rfc'] = y_pred_test_rfc2\n",
    "\n",
    "corr = scores_test.corr()\n",
    "mask = np.zeros_like(corr, dtype=np.bool)\n",
    "mask[np.triu_indices_from(mask)] = True"
   ]
  },
  {
   "cell_type": "code",
   "execution_count": 118,
   "metadata": {},
   "outputs": [
    {
     "data": {
      "text/plain": [
       "<AxesSubplot:>"
      ]
     },
     "execution_count": 118,
     "metadata": {},
     "output_type": "execute_result"
    },
    {
     "data": {
      "image/png": "[encoded data removed]",
      "text/plain": [
       "<Figure size 720x720 with 2 Axes>"
      ]
     },
     "metadata": {},
     "output_type": "display_data"
    }
   ],
   "source": [
    "fig, axes = plt.subplots(1, 1, figsize=(10, 10))\n",
    "sns.heatmap(corr, mask=mask, annot=True, fmt=\".4g\", square=True, cmap=\"viridis\", ax=axes)"
   ]
  },
  {
   "cell_type": "markdown",
   "metadata": {},
   "source": [
    "- Арифмитическое среднее:"
   ]
  },
  {
   "cell_type": "code",
   "execution_count": 79,
   "metadata": {},
   "outputs": [
    {
     "name": "stdout",
     "output_type": "stream",
     "text": [
      "Score = 0.7242\n"
     ]
    }
   ],
   "source": [
    "scores_mean = scores.mean(axis=1)\n",
    "score = roc_auc_score(target, scores_mean)\n",
    "print(f\"Score = {round(score, 4)}\")"
   ]
  },
  {
   "cell_type": "markdown",
   "metadata": {},
   "source": [
    "- Геометрическое среднее:"
   ]
  },
  {
   "cell_type": "code",
   "execution_count": 80,
   "metadata": {},
   "outputs": [
    {
     "name": "stdout",
     "output_type": "stream",
     "text": [
      "Score = 0.7244\n"
     ]
    }
   ],
   "source": [
    "scores_gmean = gmean(scores, axis=1)\n",
    "score = roc_auc_score(target, scores_gmean)\n",
    "print(f\"Score = {round(score, 4)}\")"
   ]
  },
  {
   "cell_type": "markdown",
   "metadata": {},
   "source": [
    "- Усредним ранки:"
   ]
  },
  {
   "cell_type": "code",
   "execution_count": 81,
   "metadata": {},
   "outputs": [
    {
     "name": "stdout",
     "output_type": "stream",
     "text": [
      "Score = 0.7241\n"
     ]
    }
   ],
   "source": [
    "# ROC-AUC / GINI\n",
    "rank_scores_mean = scores.rank().mean(axis=1)\n",
    "score = roc_auc_score(target, rank_scores_mean)\n",
    "print(f\"Score = {round(score, 4)}\")"
   ]
  },
  {
   "cell_type": "code",
   "execution_count": 82,
   "metadata": {},
   "outputs": [
    {
     "name": "stdout",
     "output_type": "stream",
     "text": [
      "Score = 0.7242\n"
     ]
    }
   ],
   "source": [
    "rank_scores_gmean = gmean(scores.rank(), axis=1)\n",
    "score = roc_auc_score(target, rank_scores_gmean)\n",
    "print(f\"Score = {round(score, 4)}\")"
   ]
  },
  {
   "cell_type": "markdown",
   "metadata": {},
   "source": [
    "- RandomForest ухудшил среднее качество"
   ]
  },
  {
   "cell_type": "code",
   "execution_count": 83,
   "metadata": {},
   "outputs": [
    {
     "name": "stdout",
     "output_type": "stream",
     "text": [
      "Score = 0.727\n"
     ]
    }
   ],
   "source": [
    "lr = LogisticRegression(solver=\"liblinear\", n_jobs=-1)\n",
    "\n",
    "lr.fit(scores, y)\n",
    "\n",
    "y_train_pred_lr = lr.predict_proba(scores)\n",
    "\n",
    "score = roc_auc_score(y, y_train_pred_lr[:,1])\n",
    "print(f\"Score = {round(score, 4)}\")"
   ]
  },
  {
   "cell_type": "code",
   "execution_count": 119,
   "metadata": {},
   "outputs": [],
   "source": [
    "y_test_pred_lr = lr.predict_proba(scores_test)"
   ]
  },
  {
   "cell_type": "code",
   "execution_count": 129,
   "metadata": {},
   "outputs": [],
   "source": [
    "submition_df = pd.DataFrame({\n",
    "    'APPLICATION_NUMBER': data.loc[data.is_test == 1, 'application_number'].values,\n",
    "    'TARGET': y_test_pred_lr[:,1]\n",
    "})"
   ]
  },
  {
   "cell_type": "code",
   "execution_count": 131,
   "metadata": {},
   "outputs": [],
   "source": [
    "submition_df.to_csv('submition.csv', index=False)"
   ]
  }
 ],
 "metadata": {
  "kernelspec": {
   "display_name": "Python 3",
   "language": "python",
   "name": "python3"
  },
  "language_info": {
   "codemirror_mode": {
    "name": "ipython",
    "version": 3
   },
   "file_extension": ".py",
   "mimetype": "text/x-python",
   "name": "python",
   "nbconvert_exporter": "python",
   "pygments_lexer": "ipython3",
   "version": "3.7.9"
  }
 },
 "nbformat": 4,
 "nbformat_minor": 4
}
